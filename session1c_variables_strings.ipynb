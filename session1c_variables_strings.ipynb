{
 "cells": [
  {
   "cell_type": "markdown",
   "id": "547d81df-f0bd-499e-bf74-ca8da13e636f",
   "metadata": {},
   "source": [
    "# Day 1: Session C - Variables & Strings\n",
    "\n",
    "[Session Webpage](https://eds-217-essential-python.github.io/course-materials/interactive-sessions/1c_variables_strings.html)\n",
    "\n",
    "Date: 09/03/2024"
   ]
  },
  {
   "cell_type": "markdown",
   "id": "302956c0-c62a-48ac-921b-4ddca833eb44",
   "metadata": {},
   "source": [
    "## Variable Types\n",
    "_everything is an object"
   ]
  },
  {
   "cell_type": "code",
   "execution_count": null,
   "id": "f53b3b42-7242-47ae-97b3-4dacf8476a6d",
   "metadata": {
    "tags": []
   },
   "outputs": [],
   "source": [
    "number = 42\n",
    "text = \"Hello, World!\"\n",
    "pi = 3.14159\n",
    "data = [1, 2, 3, 4, 5]"
   ]
  },
  {
   "cell_type": "code",
   "execution_count": null,
   "id": "47db23b3-8bed-478f-8934-f8d6dc9fd02b",
   "metadata": {
    "tags": []
   },
   "outputs": [],
   "source": [
    "type(number)"
   ]
  },
  {
   "cell_type": "code",
   "execution_count": null,
   "id": "cd438574-f8fe-4182-9b50-61a6176b1401",
   "metadata": {
    "tags": []
   },
   "outputs": [],
   "source": [
    "type(pi)"
   ]
  },
  {
   "cell_type": "code",
   "execution_count": null,
   "id": "c1cbd470-cce7-4a2f-a26e-183445a27c50",
   "metadata": {
    "tags": []
   },
   "outputs": [],
   "source": [
    "type(data)"
   ]
  },
  {
   "cell_type": "code",
   "execution_count": null,
   "id": "d06f35dc-5c26-4aa3-b031-157c181e8502",
   "metadata": {
    "tags": []
   },
   "outputs": [],
   "source": [
    "type(text)"
   ]
  },
  {
   "cell_type": "markdown",
   "id": "9de8ccbd-0297-4991-a68d-882c1b4114f5",
   "metadata": {},
   "source": [
    "Most common built-in types:\n",
    "\n",
    "- `int`: Integers\n",
    "- `float`: Floating point numbers\n",
    "- `str`: strings\n",
    "- `list`: a collection of things"
   ]
  },
  {
   "cell_type": "code",
   "execution_count": null,
   "id": "f8a177fe-b91c-4dbb-96d1-be20b1ebb9d7",
   "metadata": {
    "tags": []
   },
   "outputs": [],
   "source": [
    "print(type(number))\n",
    "print(type(text))"
   ]
  },
  {
   "cell_type": "markdown",
   "id": "a2740f94-db93-4db6-ad46-0a9da2b8091f",
   "metadata": {
    "tags": []
   },
   "source": [
    "## Exploring Methods\n",
    "\n",
    "### Discovering Methods"
   ]
  },
  {
   "cell_type": "code",
   "execution_count": null,
   "id": "f233ff10-cc56-4d2a-8730-82c4aa075b80",
   "metadata": {
    "tags": []
   },
   "outputs": [],
   "source": [
    "list_of_methods = dir(text)\n",
    "print (list_of_methods)"
   ]
  },
  {
   "cell_type": "code",
   "execution_count": null,
   "id": "c803cb73-1c43-4554-852d-01755ce7e903",
   "metadata": {
    "tags": []
   },
   "outputs": [],
   "source": [
    "text.upper()"
   ]
  },
  {
   "cell_type": "code",
   "execution_count": null,
   "id": "e99c7dd1-2ec7-4ae8-9d5f-2711ff5a90b8",
   "metadata": {
    "tags": []
   },
   "outputs": [],
   "source": [
    "text = \"  not all Upper case    \"\n",
    "\n",
    "# Convert to upper case\n",
    "print(text.upper())\n",
    "\n",
    "# Convert to lower case\n",
    "print(text.lower())\n",
    "\n",
    "# Replace a substring\n",
    "print(text.replace(\"Upper\", \"Lower\"))\n",
    "\n",
    "# Strip out trailing and leading whitespace, including tabs and newlines!\n",
    "print(text.strip())"
   ]
  },
  {
   "cell_type": "markdown",
   "id": "bcad11a1-e7a9-41b0-817e-630fff30aaff",
   "metadata": {},
   "source": [
    "### Combining Methods\n",
    "\n",
    "We can combine methods. Most functions return an instance of an object, so we can use that to run another command. This is called **method changing**.\n",
    "An example would be string normalization, where we want to \n",
    "1. remove trailing/leading whitespace, \n",
    "2. make everything lower case, and \n",
    "3. replace whitespace with `_`\n",
    "\n",
    "# The hard way:"
   ]
  },
  {
   "cell_type": "code",
   "execution_count": null,
   "id": "31688fd6-58dd-41aa-b107-c9d756f7ef7c",
   "metadata": {
    "tags": []
   },
   "outputs": [],
   "source": [
    "column_bad = '  Air Temperature'\n",
    "# Step 1: Strip leading/trailing whitespace:\n",
    "column_better = column_bad.strip()\n",
    "\n",
    "#Also can use just the string, don't necessarily need to assign to a variable\n",
    "'  Air Temperature'.strip()\n",
    "\n",
    "# Step 2: Make everything lower case:\n",
    "column_even_better = column_better.lower()\n",
    "\n",
    "#Step 3: replace white space\n",
    "column_best = column_even_better.replace(' ', '_')\n",
    "\n",
    "print(column_best)"
   ]
  },
  {
   "cell_type": "markdown",
   "id": "f457a34a-f3ff-4169-a96b-d124028854c1",
   "metadata": {},
   "source": [
    "#### The Pythonic Way:"
   ]
  },
  {
   "cell_type": "code",
   "execution_count": null,
   "id": "d3b8ffe2-7051-4e6b-ae75-b349eef247b5",
   "metadata": {
    "tags": []
   },
   "outputs": [],
   "source": [
    "print(column_bad.strip().lower().replace(' ', '_'))"
   ]
  },
  {
   "cell_type": "markdown",
   "id": "cb484ad8-2a63-46ed-ab2d-c8c5038d3fa6",
   "metadata": {},
   "source": [
    "### A more complicated example. \n",
    "\n",
    "Looping through a list of strings and normalizing each one!\n",
    "\n",
    "0. make a list of strings\n",
    "1. Make a for loop to loop through the string\n",
    "2. Normalize each string\n",
    "3. Print out the normalized string"
   ]
  },
  {
   "cell_type": "code",
   "execution_count": null,
   "id": "c024f51a-3c14-4bad-9b98-b7891ab8fa78",
   "metadata": {
    "tags": []
   },
   "outputs": [],
   "source": [
    "# Step 0: list of strings \n",
    "strings_to_normalize = [\n",
    "    \"data science\",\n",
    "    \"  MACHINE learning \",\n",
    "    \"Artificial Intelligence\\t\",\n",
    "    \" Natural\\nLanguage Processing \"\n",
    "]\n",
    "\n",
    "print(\"Your Normalized Strings:\")\n",
    "print(\"========================\")\n",
    "\n",
    "# Step 1: For loop\n",
    "for string in strings_to_normalize:\n",
    "    # Our normalization code here\n",
    "    normalized = string.strip().lower().replace('\\n','_').replace(\" \", \"_\")\n",
    "    \n",
    "    print(f\"Original: '{string}'\")\n",
    "    print(f\"Normalized: '{normalized}'\")\n",
    "    print()"
   ]
  }
 ],
 "metadata": {
  "kernelspec": {
   "display_name": "Python 3.10.0",
   "language": "python",
   "name": "python3.10.0"
  },
  "language_info": {
   "codemirror_mode": {
    "name": "ipython",
    "version": 3
   },
   "file_extension": ".py",
   "mimetype": "text/x-python",
   "name": "python",
   "nbconvert_exporter": "python",
   "pygments_lexer": "ipython3",
   "version": "3.10.0"
  }
 },
 "nbformat": 4,
 "nbformat_minor": 5
}
