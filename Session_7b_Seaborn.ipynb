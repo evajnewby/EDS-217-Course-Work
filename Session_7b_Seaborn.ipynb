{
 "cells": [
  {
   "cell_type": "markdown",
   "id": "0886d5ad-e474-471e-93b5-560e80783560",
   "metadata": {},
   "source": [
    "# Day 7: Session B - Seaborn\n",
    "\n",
    "https://eds-217-essential-python.github.io/course-materials/interactive-sessions/7b_visualizations_2.html\n",
    "\n",
    "\n",
    "9/11/24"
   ]
  },
  {
   "cell_type": "code",
   "execution_count": null,
   "id": "8454a754-566d-4d8d-8212-d6e626d65bf7",
   "metadata": {},
   "outputs": [],
   "source": [
    "%matplotlib inline\n",
    "# Import seaborn\n",
    "import seaborn as sns\n",
    "\n",
    "# Apply the default theme\n",
    "sns.set_theme()\n",
    "\n",
    "# Load an example dataset\n",
    "tips = sns.load_dataset(\"tips\")\n",
    "\n",
    "# Create a visualization\n",
    "sns.relplot(\n",
    "    data=tips,\n",
    "    x=\"total_bill\", y=\"tip\", col=\"time\",\n",
    "    hue=\"sex\", style=\"smoker\", size=\"size\",\n",
    ")\n",
    "\n",
    "tips.head()"
   ]
  },
  {
   "cell_type": "code",
   "execution_count": null,
   "id": "8dbb4ba7-81e2-4e74-a203-0ae974e391e6",
   "metadata": {
    "tags": []
   },
   "outputs": [],
   "source": [
    "dots = sns.load_dataset(\"dots\")\n",
    "sns.relplot(\n",
    "    data=dots, kind=\"line\",\n",
    "    x=\"time\", y=\"firing_rate\", col=\"align\",\n",
    "    hue=\"choice\", size=\"coherence\", style=\"choice\",\n",
    "    facet_kws=dict(sharex=False),\n",
    ")"
   ]
  },
  {
   "cell_type": "markdown",
   "id": "8df81b80-fb95-4669-a909-f0058c5b8272",
   "metadata": {},
   "source": [
    "### Comparing Matplotlib to seaborn"
   ]
  },
  {
   "cell_type": "code",
   "execution_count": null,
   "id": "b04b544b-478b-49e5-aebc-cf337b22ce38",
   "metadata": {
    "tags": []
   },
   "outputs": [],
   "source": [
    "# Imports\n",
    "import numpy as np\n",
    "import pandas as pd\n",
    "import matplotlib.pyplot as plt\n",
    "import seaborn as sns"
   ]
  },
  {
   "cell_type": "code",
   "execution_count": null,
   "id": "a9395a10-33e7-473b-8e32-3dcf184a0960",
   "metadata": {
    "tags": []
   },
   "outputs": [],
   "source": [
    "# Generate a 1D array with 300 points between -5 and 5\n",
    "x = np.linspace(-5,5,300)\n",
    "# Generate sine wave\n",
    "ysin = np.sin(x)\n",
    "# Generate cosine wave\n",
    "ycos = np.cos(x)\n",
    "\n",
    "# Now let's make a dataframe from these arrays:\n",
    "df = pd.DataFrame({\n",
    "    'x': x,\n",
    "    'ysin': ysin,\n",
    "    'ycos': ycos\n",
    "    })"
   ]
  },
  {
   "cell_type": "code",
   "execution_count": null,
   "id": "c2784d4d-7fef-41f3-8bfc-2bf5dfc03bcb",
   "metadata": {
    "tags": []
   },
   "outputs": [],
   "source": [
    "# Plot sine wave\n",
    "plt.plot(x,ysin)\n",
    "# Plot cosine wave\n",
    "plt.plot(x,ycos)"
   ]
  },
  {
   "cell_type": "code",
   "execution_count": null,
   "id": "b482791c-caf9-42d8-b8fb-f566498a08bd",
   "metadata": {
    "tags": []
   },
   "outputs": [],
   "source": [
    "sns.lineplot(data=df,x='x',y='ysin')\n",
    "sns.lineplot(data=df,x='x',y='ycos')"
   ]
  },
  {
   "cell_type": "markdown",
   "id": "0fb87659-87bd-4f36-962e-82c03208853e",
   "metadata": {},
   "source": [
    "### Working with real data"
   ]
  },
  {
   "cell_type": "code",
   "execution_count": null,
   "id": "1c7cff69-3062-4a96-943d-686f3483d85c",
   "metadata": {
    "tags": []
   },
   "outputs": [],
   "source": [
    "# Import data\n",
    "bsrn = pd.read_csv(\n",
    "    'https://bit.ly/bsrn_data',\n",
    "    index_col=0,\n",
    "    parse_dates=True\n",
    "    )\n",
    "\n",
    "print(bsrn.head())"
   ]
  },
  {
   "cell_type": "code",
   "execution_count": null,
   "id": "7bc267d6-029e-4e06-a34f-73253adfefb1",
   "metadata": {
    "tags": []
   },
   "outputs": [],
   "source": [
    "# # Initialize empty figure\n",
    "fig = plt.figure()\n",
    "\n",
    "# Plot incoming SW radiation\n",
    "plt.plot(bsrn.index,bsrn.SWD_Wm2)\n",
    "\n",
    "# Label y-axis\n",
    "plt.ylabel(r'Incoming SW radiation (W m$^{-2}$)')"
   ]
  },
  {
   "cell_type": "markdown",
   "id": "f06af1a8-f446-4112-b2e0-b940de148cf5",
   "metadata": {
    "tags": []
   },
   "source": [
    "### Need to fix the x axis\n",
    "#### Technique 1: Use `plt.figure()`, and `figsize`"
   ]
  },
  {
   "cell_type": "code",
   "execution_count": null,
   "id": "0b58ab03-14f1-4da4-97e8-9400b5df8533",
   "metadata": {
    "tags": []
   },
   "outputs": [],
   "source": [
    "# Example 1: Without explicitly setting figsize\n",
    "sns.lineplot(data=bsrn, x='DATE', y='SWD_Wm2')\n",
    "plt.ylabel(r'Incoming SW radiation (W m$^{-2}$)')\n",
    "plt.title('Default Figure Size')\n",
    "plt.show()\n",
    "\n",
    "# Example 2: With explicitly setting figsize\n",
    "plt.figure(figsize=(12, 6))\n",
    "sns.lineplot(data=bsrn, x='DATE', y='SWD_Wm2')\n",
    "plt.ylabel(r'Incoming SW radiation (W m$^{-2}$)')\n",
    "plt.title('Custom Figure Size (12x6 inches)')\n",
    "plt.show()"
   ]
  },
  {
   "cell_type": "markdown",
   "id": "5fd77001-8580-495f-88e4-f9e1963fb4a1",
   "metadata": {},
   "source": [
    "#### Technique 2: Rotate X axis labels"
   ]
  },
  {
   "cell_type": "code",
   "execution_count": null,
   "id": "6fb975e3-b1cc-49d4-9041-07de1c7bc451",
   "metadata": {
    "tags": []
   },
   "outputs": [],
   "source": [
    "plt.figure(figsize=(12, 6))\n",
    "sns.lineplot(data=bsrn, x='DATE', y='SWD_Wm2')\n",
    "plt.xticks(rotation=45, ha='right')\n",
    "plt.tight_layout()\n",
    "plt.show()"
   ]
  },
  {
   "cell_type": "markdown",
   "id": "0fef2e4b-aa33-4b2a-bb53-c06cc0bde305",
   "metadata": {},
   "source": [
    "#### Technique 3: Use fewer x axis labels"
   ]
  },
  {
   "cell_type": "code",
   "execution_count": null,
   "id": "647ab031-4360-4ba1-9914-9674513ade62",
   "metadata": {
    "tags": []
   },
   "outputs": [],
   "source": [
    "plt.figure(figsize=(12, 6))\n",
    "sns.lineplot(data=bsrn, x='DATE', y='SWD_Wm2')\n",
    "\n",
    "# Show only 5 evenly spaced labels\n",
    "plt.gca().xaxis.set_major_locator(plt.MaxNLocator(5))\n",
    "\n",
    "plt.xticks(rotation=45, ha='right')\n",
    "plt.tight_layout()\n",
    "plt.show()"
   ]
  },
  {
   "cell_type": "markdown",
   "id": "fc8e68f3-14ce-4a17-bdc0-a7f2f137d16d",
   "metadata": {},
   "source": [
    "#### Technique 4: Use a Time-based Moving Average"
   ]
  },
  {
   "cell_type": "code",
   "execution_count": null,
   "id": "cce5e0c8-8803-4bc8-b558-f0c795adfd18",
   "metadata": {
    "tags": []
   },
   "outputs": [],
   "source": [
    "# Ensure DATE is a datetime column\n",
    "bsrn['DATE'] = pd.to_datetime(bsrn.index)\n",
    "\n",
    "# Resample to monthly mean\n",
    "bsrn_monthly = bsrn.resample('h', on='DATE').mean().reset_index()\n",
    "\n",
    "plt.figure(figsize=(12, 6))\n",
    "sns.lineplot(data=bsrn_monthly, x='DATE', y='SWD_Wm2')\n",
    "\n",
    "plt.xticks(rotation=45, ha='right')\n",
    "plt.title('BSRN Hourly Average Time Series')\n",
    "plt.tight_layout()\n",
    "plt.show()"
   ]
  },
  {
   "cell_type": "markdown",
   "id": "90a45e97-6310-4238-a74e-37f7c5c408c5",
   "metadata": {},
   "source": [
    "## Practice Time!"
   ]
  },
  {
   "cell_type": "code",
   "execution_count": null,
   "id": "646228f7-71f0-45f5-9cd7-f7ffd0b33d47",
   "metadata": {},
   "outputs": [],
   "source": []
  }
 ],
 "metadata": {
  "kernelspec": {
   "display_name": "Python 3.10.0",
   "language": "python",
   "name": "python3.10.0"
  },
  "language_info": {
   "codemirror_mode": {
    "name": "ipython",
    "version": 3
   },
   "file_extension": ".py",
   "mimetype": "text/x-python",
   "name": "python",
   "nbconvert_exporter": "python",
   "pygments_lexer": "ipython3",
   "version": "3.10.0"
  }
 },
 "nbformat": 4,
 "nbformat_minor": 5
}
