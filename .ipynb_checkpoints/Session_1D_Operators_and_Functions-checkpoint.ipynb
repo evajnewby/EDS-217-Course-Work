{
 "cells": [
  {
   "cell_type": "markdown",
   "id": "5bf417c4-3ad4-41fd-a035-00dc988ab6c3",
   "metadata": {},
   "source": [
    "# Day 1: Session D - Operators & Functions\n",
    "\n",
    "[Session Webpage](https://eds-217-essential-python.github.io/course-materials/interactive-sessions/1d_operators_functions.html)\n",
    "\n",
    "Date: 09/03/2024"
   ]
  },
  {
   "cell_type": "code",
   "execution_count": null,
   "id": "f2554871-f144-4bbb-a4a5-4adea9efbc9f",
   "metadata": {
    "tags": []
   },
   "outputs": [],
   "source": [
    "x = 1\n",
    "y = 42"
   ]
  },
  {
   "cell_type": "code",
   "execution_count": null,
   "id": "d53f0996-055d-45ac-8202-bb6bd0412aff",
   "metadata": {
    "tags": []
   },
   "outputs": [],
   "source": [
    "a = 1.0\n",
    "b = 42.0\n",
    "c = 23.782043"
   ]
  },
  {
   "cell_type": "code",
   "execution_count": null,
   "id": "34f227ae-d3e9-4717-93b2-6edbb80b1b2f",
   "metadata": {
    "tags": []
   },
   "outputs": [],
   "source": [
    "15 / 4"
   ]
  },
  {
   "cell_type": "markdown",
   "id": "07f8f2d4-a6da-4e08-a2fc-f0bb92a43572",
   "metadata": {},
   "source": [
    "### Compound Assignment Operators"
   ]
  },
  {
   "cell_type": "code",
   "execution_count": null,
   "id": "ddbcb3c6-196b-411e-af93-b78e6f4de757",
   "metadata": {
    "tags": []
   },
   "outputs": [],
   "source": [
    "count = 10\n",
    "count -= 1\n",
    "print(count)\n",
    "\n",
    "count += 2\n",
    "print(count)\n",
    "\n",
    "count *= 3\n",
    "print(count)"
   ]
  },
  {
   "cell_type": "code",
   "execution_count": null,
   "id": "d6fbc401-1db1-4c22-83a3-fcc8255089f3",
   "metadata": {
    "tags": []
   },
   "outputs": [],
   "source": [
    "# Initialize the score\n",
    "score = 100\n",
    "\n",
    "# TODO: Use compound assignment to decrease the score by 15\n",
    "score -= 15\n",
    "\n",
    "# TODO: Use compound assignment to double the score\n",
    "score *= 2\n",
    "\n",
    "# TODO: Use compound assignment to divide the score by 5\n",
    "score /= 5\n",
    "\n",
    "print(f\"Final score: {score}\")  # Expected output: 34.0"
   ]
  },
  {
   "cell_type": "markdown",
   "id": "4d9eb859-9e57-4863-ab86-fdf311bd0404",
   "metadata": {
    "tags": []
   },
   "source": [
    "### Boolean Operators"
   ]
  },
  {
   "cell_type": "code",
   "execution_count": null,
   "id": "e072cd9c-a48d-4f60-ba38-e9343168a5e9",
   "metadata": {
    "tags": []
   },
   "outputs": [],
   "source": [
    "print(b >= a)\n",
    "print( 87 <= -2)\n",
    "print(2 == 2.0)\n",
    "print (y == x)"
   ]
  },
  {
   "cell_type": "code",
   "execution_count": null,
   "id": "59db238c-262a-4fff-afe8-5d837a7e571c",
   "metadata": {
    "tags": []
   },
   "outputs": [],
   "source": [
    "isinstance(12, int)"
   ]
  },
  {
   "cell_type": "code",
   "execution_count": null,
   "id": "abfaab04-4dec-4caa-84e1-5b9dd98f80c4",
   "metadata": {
    "tags": []
   },
   "outputs": [],
   "source": [
    "isinstance(24.0, int)"
   ]
  },
  {
   "cell_type": "markdown",
   "id": "aef7f1b4-5c64-4d2c-81bc-94a0890feeee",
   "metadata": {
    "tags": []
   },
   "source": [
    "## Converting types \n",
    "\n",
    "use `float`, `int`, `str`, etc to convert types"
   ]
  },
  {
   "cell_type": "code",
   "execution_count": null,
   "id": "f0599c24-c189-4340-97f7-42bd6a35c839",
   "metadata": {
    "tags": []
   },
   "outputs": [],
   "source": [
    "print(float(x))\n",
    "print(int(b))\n",
    "print(str(b))"
   ]
  },
  {
   "cell_type": "code",
   "execution_count": null,
   "id": "2bf8377e-8de0-4ab0-8e36-b919d2aecebd",
   "metadata": {
    "tags": []
   },
   "outputs": [],
   "source": [
    "print('isaac' + ' ' + 'newton')"
   ]
  },
  {
   "cell_type": "markdown",
   "id": "5110aa3d-5113-42f1-bcc1-51f73a6636c2",
   "metadata": {},
   "source": [
    "### Format Print Statements (f strings)\n",
    "\n",
    "use f-string notation to include variables + text in your print statements!\n"
   ]
  },
  {
   "cell_type": "code",
   "execution_count": null,
   "id": "9837c4d1-e902-4c3d-86c8-d69b68a28b9a",
   "metadata": {
    "tags": []
   },
   "outputs": [],
   "source": [
    "name = 'Eva'\n",
    "age = 27\n",
    "\n",
    "#Example of an f string:\n",
    "print(f\"My name is {name} and I am {age} years old\")"
   ]
  },
  {
   "cell_type": "code",
   "execution_count": null,
   "id": "c8e1974f-8823-42f4-96f9-49b9abbf8a22",
   "metadata": {},
   "outputs": [],
   "source": [
    "pi = 3.14159265358973\n",
    "\n",
    "#print with 4 decimal places:\n",
    "print(f\" The value of pi is approximately: {pi:.4f}\")\n",
    "\n",
    "# print with 4 decimal places and 6 integer places:\n",
    "print(f\" The value of pi is approximately: {pi:10.4f}\")\n"
   ]
  },
  {
   "cell_type": "code",
   "execution_count": null,
   "id": "d95fcb16-1b23-4264-8600-6c2a26c598c3",
   "metadata": {},
   "outputs": [],
   "source": []
  }
 ],
 "metadata": {
  "kernelspec": {
   "display_name": "Python 3.10.0",
   "language": "python",
   "name": "python3.10.0"
  },
  "language_info": {
   "codemirror_mode": {
    "name": "ipython",
    "version": 3
   },
   "file_extension": ".py",
   "mimetype": "text/x-python",
   "name": "python",
   "nbconvert_exporter": "python",
   "pygments_lexer": "ipython3",
   "version": "3.10.0"
  }
 },
 "nbformat": 4,
 "nbformat_minor": 5
}
