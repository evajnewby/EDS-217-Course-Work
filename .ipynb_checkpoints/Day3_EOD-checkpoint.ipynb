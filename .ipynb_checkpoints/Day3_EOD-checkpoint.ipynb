{
 "cells": [
  {
   "cell_type": "markdown",
   "id": "c5945aa7-9f6f-43fd-90c6-084fb5768bcf",
   "metadata": {},
   "source": [
    "### Day 3 EOD practice - 9/5/24\n",
    "\n",
    "\n",
    "https://eds-217-essential-python.github.io/course-materials/eod-practice/eod-day3.html\n",
    "\n",
    "answer key: https://eds-217-essential-python.github.io/course-materials/answer-keys/eod-day2-key.html"
   ]
  },
  {
   "cell_type": "code",
   "execution_count": null,
   "id": "f750c450-5f80-4af9-8134-4860f55fb5bd",
   "metadata": {
    "tags": []
   },
   "outputs": [],
   "source": [
    "import pandas as pd\n",
    "import numpy as np"
   ]
  },
  {
   "cell_type": "code",
   "execution_count": null,
   "id": "d0402c6c-5361-4993-8cdc-aff8fd937c42",
   "metadata": {
    "tags": []
   },
   "outputs": [],
   "source": [
    "rng = np.random.default_rng(rng.integers(low=0, high=10, size=3))"
   ]
  },
  {
   "cell_type": "code",
   "execution_count": null,
   "id": "5d708615-adb0-4d62-bb9a-2a49d3192bb3",
   "metadata": {
    "tags": []
   },
   "outputs": [],
   "source": [
    "help(np.random.default_rng)"
   ]
  },
  {
   "cell_type": "code",
   "execution_count": null,
   "id": "386436e8-ac84-43e5-bcca-c1bd71e65a7a",
   "metadata": {
    "tags": []
   },
   "outputs": [],
   "source": [
    "rng = np.random.default_rng(seed=42)"
   ]
  },
  {
   "cell_type": "code",
   "execution_count": null,
   "id": "170ffc0d-3cbe-4f99-bd3e-e40fa7d846c2",
   "metadata": {
    "tags": []
   },
   "outputs": [],
   "source": [
    "months = ['Sep', 'Oct', 'Nov', 'Dec', 'Jan', 'Feb', 'Mar', 'Apr', 'May', 'Jun']\n",
    "\n",
    "rng = np.random.default_rng(seed=42)\n",
    "scores = pd.Series(rng.integers(70, 101, size=10), index=months)\n",
    "print(scores)"
   ]
  },
  {
   "cell_type": "code",
   "execution_count": null,
   "id": "d8d2349f-4562-4756-bd22-ea524ca57a73",
   "metadata": {
    "tags": []
   },
   "outputs": [],
   "source": [
    "# Avg test score for year\n",
    "avg_scores = scores.mean()\n",
    "print(f\"The average test score for the entire year is {avg_scores:.2f}\")"
   ]
  },
  {
   "cell_type": "code",
   "execution_count": null,
   "id": "081bed79-e4cb-4825-8654-809156f81c53",
   "metadata": {
    "tags": []
   },
   "outputs": [],
   "source": [
    "# Avg score for first half of year\n",
    "\n",
    "#avg_1st_half = scores.iloc[:5].mean()\n",
    "#print(f\"The student's average test score during the first half of the year is: {first_half_average:.2f}\")\n",
    "\n",
    "avg_1st_half = scores.loc['Sep':'Jan'].mean()\n",
    "print(avg_1st_half)"
   ]
  },
  {
   "cell_type": "code",
   "execution_count": null,
   "id": "a149350c-543b-4d26-9f83-c25054d4b075",
   "metadata": {
    "tags": []
   },
   "outputs": [],
   "source": [
    "avg_2nd_half = scores.loc['Feb':'Jun'].mean()\n",
    "print(avg_2nd_half)"
   ]
  },
  {
   "cell_type": "code",
   "execution_count": null,
   "id": "047d058f-b939-45b2-8c38-8004854c4345",
   "metadata": {
    "tags": []
   },
   "outputs": [],
   "source": [
    "improvement = avg_2nd_half - avg_1st_half\n",
    "print(improvement)\n",
    "\n",
    "if improvement > 0:\n",
    "    print(\"Improved\")\n",
    "else:\n",
    "    print(\"not improved\")"
   ]
  }
 ],
 "metadata": {
  "kernelspec": {
   "display_name": "Python 3.10.0",
   "language": "python",
   "name": "python3.10.0"
  },
  "language_info": {
   "codemirror_mode": {
    "name": "ipython",
    "version": 3
   },
   "file_extension": ".py",
   "mimetype": "text/x-python",
   "name": "python",
   "nbconvert_exporter": "python",
   "pygments_lexer": "ipython3",
   "version": "3.10.0"
  }
 },
 "nbformat": 4,
 "nbformat_minor": 5
}
