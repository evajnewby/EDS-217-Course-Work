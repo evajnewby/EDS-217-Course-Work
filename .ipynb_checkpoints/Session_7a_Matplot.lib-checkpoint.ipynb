{
 "cells": [
  {
   "cell_type": "markdown",
   "id": "edfc2731-ea35-4c51-8e8e-6b7bed3d84c2",
   "metadata": {},
   "source": [
    "# Day 7 Session A- Essential Matplotlib\n",
    "\n",
    "https://eds-217-essential-python.github.io/course-materials/interactive-sessions/7a_visualizations_1.html\n",
    "\n",
    "9/11/24"
   ]
  },
  {
   "cell_type": "code",
   "execution_count": null,
   "id": "5ca838e8-dca5-4378-9741-0fd29523cc06",
   "metadata": {
    "tags": []
   },
   "outputs": [],
   "source": [
    "import numpy as np\n",
    "import pandas as pd\n",
    "import matplotlib.pyplot as plt"
   ]
  },
  {
   "cell_type": "markdown",
   "id": "f0811556-6022-4ebf-b7e5-4f0e30d6dbc0",
   "metadata": {},
   "source": [
    "## Anatomy of a `matplotlib` plot\n",
    "\n",
    "### Three main objects:\n",
    "\n",
    "- `Figure`: Wall of an art gallery\n",
    "- `Axes`: A place to put data (where in a figure we can plot data)\n",
    "- `Plot`: A command or method that renders data into some axes\n",
    "\n",
    "Generally, `matplotlib` (and all other libraries) assume a plot command is going into the most recently created Figure. If there is not a figure already, these commands will make one, including aces, and then render the results of the plotting command into these objects. \n",
    "\n"
   ]
  },
  {
   "cell_type": "code",
   "execution_count": null,
   "id": "bb091439-07f0-4edb-91bb-34217af11817",
   "metadata": {
    "tags": []
   },
   "outputs": [],
   "source": [
    "# Let's make some data for plotting (sin and cos functions)\n",
    "x = np.linspace(-5, 5, 300)\n",
    "\n",
    "# Generate sine wave\n",
    "ysin = np.sin(x)\n",
    "\n",
    "# Generate cos wave\n",
    "\n",
    "ycos = np.cos(x)"
   ]
  },
  {
   "cell_type": "code",
   "execution_count": null,
   "id": "e3009ee4-96e5-4c50-b527-178857068272",
   "metadata": {
    "tags": []
   },
   "outputs": [],
   "source": [
    "# Plot sine wave\n",
    "\n",
    "plt.plot(x, ysin)\n",
    "plt.plot(x, ycos)"
   ]
  },
  {
   "cell_type": "code",
   "execution_count": null,
   "id": "16d2be13-cf20-4f5b-b414-0c5c3b1e33e4",
   "metadata": {
    "tags": []
   },
   "outputs": [],
   "source": [
    "# If we create a figure, it forces the library to make a new place for plotting data\n",
    "# If we create a figure, we can separate plot commands\n",
    "\n",
    "fig1 = plt.figure()\n",
    "plt.plot(x, ysin)\n",
    "\n",
    "fig2 = plt.figure()\n",
    "plt.plot(x, ycos)"
   ]
  },
  {
   "cell_type": "code",
   "execution_count": null,
   "id": "7781c316-a534-4152-964c-4de6bf9b991c",
   "metadata": {
    "tags": []
   },
   "outputs": [],
   "source": [
    "# We use plot.scatter to get points instead of lines\n",
    "\n",
    "# Generate new x and y with fewer points for legibility\n",
    "# np.linspace(lower, upper, n): \n",
    "#     Creates n points between lower and upper, including both bounds.\n",
    "\n",
    "xscat = np.linspace(-5,5,25) # 25 creats a lower density of points so they don't blur together\n",
    "yscat = np.sin(xscat)\n",
    "\n",
    "# Plot sine function as scatter plot\n",
    "plt.scatter(xscat,yscat)"
   ]
  },
  {
   "cell_type": "markdown",
   "id": "88d23724-db70-4784-9330-81c4f125703d",
   "metadata": {},
   "source": [
    "## Keyword Arguments\n",
    "\n",
    "change color, markertype, and line style"
   ]
  },
  {
   "cell_type": "markdown",
   "id": "2cd549c7-12b9-4ee5-a86c-56671eb2c406",
   "metadata": {},
   "source": [
    "### Specifying colors:\n",
    "\n",
    "#### Using html stringnames"
   ]
  },
  {
   "cell_type": "code",
   "execution_count": null,
   "id": "dd054826-b7e7-4429-9872-8109aa98d526",
   "metadata": {
    "tags": []
   },
   "outputs": [],
   "source": [
    "# Specifying color with a string:\n",
    "y = ysin\n",
    "plt.plot(x, y, 'green')"
   ]
  },
  {
   "cell_type": "markdown",
   "id": "ca15709a-6b4b-4872-a82d-2b0d3cd6b8d0",
   "metadata": {},
   "source": [
    "#### Using RGB(a) tuples"
   ]
  },
  {
   "cell_type": "code",
   "execution_count": null,
   "id": "549ebb83-c7d1-40a0-8cd6-bb553de56cc9",
   "metadata": {
    "tags": []
   },
   "outputs": [],
   "source": [
    "# Specifying color with an RGB tuple:\n",
    "plt.plot(x, y, color=(1, 0, 1))"
   ]
  },
  {
   "cell_type": "code",
   "execution_count": null,
   "id": "00694f5c-3e09-41ca-8c5f-1857d89799f7",
   "metadata": {
    "tags": []
   },
   "outputs": [],
   "source": [
    "# We can add a 4th value to the tuple to specify transparency\n",
    "plt.plot(x, ysin, color=(0, 0, 1, .5))\n",
    "plt.plot(x, ycos, color=(1, 0, 0, 1))\n",
    "\n",
    "#Keyword alpha argument can be used and tramples any other transparency in the tuple"
   ]
  },
  {
   "cell_type": "code",
   "execution_count": null,
   "id": "abc6959d-4f99-4cba-ae0c-7d91c9b6157a",
   "metadata": {
    "tags": []
   },
   "outputs": [],
   "source": [
    "# grayscale\n",
    "\n",
    "# Specifying greyscale with a intensity value [0-1]:\n",
    "plt.plot(x, y, color='0.25')"
   ]
  },
  {
   "cell_type": "code",
   "execution_count": null,
   "id": "073bcb31-d4b2-4ac6-90a8-4690f687fcbc",
   "metadata": {
    "tags": []
   },
   "outputs": [],
   "source": [
    "# Hexidecimal color codes\n",
    "# Specifying color with a hex code:\n",
    "plt.plot(x, y, color='#C6E2FF')"
   ]
  },
  {
   "cell_type": "markdown",
   "id": "bc2b59a3-8e6f-40bd-95ab-d4bd6bc94017",
   "metadata": {},
   "source": [
    "## Linestyles"
   ]
  },
  {
   "cell_type": "code",
   "execution_count": null,
   "id": "a301541f-16f7-4db1-9853-bafced8f53ed",
   "metadata": {
    "tags": []
   },
   "outputs": [],
   "source": [
    "# Use linestype keyword:\n",
    "\n",
    "plt.plot(x, y, linestyle = ':')"
   ]
  },
  {
   "cell_type": "code",
   "execution_count": null,
   "id": "981616e9-deb9-44f2-ba73-0793bfb17cd2",
   "metadata": {
    "tags": []
   },
   "outputs": [],
   "source": [
    "# Initialize empty figure\n",
    "fig1 = plt.figure()\n",
    "# Plot sine wave with different colors + linestyles\n",
    "plt.plot(x, np.sin(x - 0), color='darkblue', linestyle='-')\n",
    "plt.plot(x, np.sin(x - 1), color='m', linestyle='dashed')\n",
    "plt.plot(x, np.sin(x - 2), color=(0.0,0.8,0.81), linestyle=':') \n",
    "plt.plot(x, np.sin(x - 3), color='0.65', linestyle='solid')\n",
    "plt.plot(x, np.sin(x - 4), color='#B8D62E', linestyle='-.')\n",
    "\n",
    "# Can differentiate out"
   ]
  },
  {
   "cell_type": "markdown",
   "id": "7cfbb937-f569-416e-8501-2b5cf3e42be0",
   "metadata": {},
   "source": [
    "#### Marker Styles\n",
    "\n"
   ]
  },
  {
   "cell_type": "code",
   "execution_count": null,
   "id": "919d59ca-032a-4427-b005-0a5937acd337",
   "metadata": {
    "tags": []
   },
   "outputs": [],
   "source": [
    "# Initialize empty figure\n",
    "fig1 = plt.figure()\n",
    "# Plot sine wave as scatter plot with different colors + markers\n",
    "plt.scatter(xscat, yscat-0, color='darkblue', marker='o')\n",
    "plt.scatter(xscat, yscat-1, color='m', marker='.')\n",
    "plt.scatter(xscat, yscat-2, color=(0.0,0.8,0.81), marker='+')\n",
    "plt.scatter(xscat, yscat-3, color='0.65', marker='*')\n",
    "plt.scatter(xscat, yscat-4, color='#B8D62E', marker='s')"
   ]
  },
  {
   "cell_type": "code",
   "execution_count": null,
   "id": "7c9c5df7-7908-4515-aca3-1934655ed862",
   "metadata": {
    "tags": []
   },
   "outputs": [],
   "source": [
    "# Initialize empty figure\n",
    "fig1 = plt.figure()\n",
    "# Plot sine wave with different colors + markers\n",
    "plt.plot(xscat, np.sin(xscat - 0), color='darkblue', marker='o')\n",
    "plt.plot(xscat, np.sin(xscat - 1), color='m', marker='.')\n",
    "plt.plot(xscat, np.sin(xscat - 2), color=(0.0,0.8,0.81), marker='+')\n",
    "plt.plot(xscat, np.sin(xscat - 3), color='0.65', marker='*')\n",
    "plt.plot(xscat, np.sin(xscat - 4), color='#B8D62E', marker='s')"
   ]
  },
  {
   "cell_type": "code",
   "execution_count": null,
   "id": "5a16adb3-2b9c-4d48-9981-486b187a7d80",
   "metadata": {
    "tags": []
   },
   "outputs": [],
   "source": [
    "# There are shortcuts, but it'll only work with less complicated things\n",
    "# Plot a dashed red line\n",
    "plt.plot(x, y, 'r--')"
   ]
  },
  {
   "cell_type": "code",
   "execution_count": null,
   "id": "c4b6f1c9-7e5c-4518-aecd-6e28b2e55795",
   "metadata": {
    "tags": []
   },
   "outputs": [],
   "source": [
    "# Initialize empty figure\n",
    "fig1 = plt.figure()\n",
    "# Plot sine wave with different colors + markers\n",
    "plt.plot(xscat, yscat-0, 'b-o')    # Solid blue line with circle markers\n",
    "plt.plot(xscat, yscat-1, 'm--*')   # Dashed magenta line with star markers\n",
    "plt.plot(xscat, yscat-2, 'c+')     # Cyan plus markers\n",
    "plt.plot(xscat, yscat-3, 'k')      # Solid black line\n",
    "plt.plot(xscat, yscat-4, 'y-s')    # Solid yellow line with square markers"
   ]
  },
  {
   "cell_type": "markdown",
   "id": "5e789d08-15d8-4172-a8df-be5e26869198",
   "metadata": {},
   "source": [
    "### Axes \n",
    "\n",
    "labels, ticks, legends, title\n",
    " Generally, we can use plt. methods to change axes properties. \n",
    " Most of these methods are self explanatory\n",
    "\n",
    "#### Limits"
   ]
  },
  {
   "cell_type": "code",
   "execution_count": null,
   "id": "8e95d3cc-95bf-4f8c-ae11-36bce3227ff1",
   "metadata": {
    "tags": []
   },
   "outputs": [],
   "source": [
    "# Initialize empty figure\n",
    "fig1 = plt.figure()\n",
    "# Plot sine wave \n",
    "plt.plot(x, ysin, color='darkblue')\n",
    "\n",
    "# Set axis limits, can zoom in or out\n",
    "plt.xlim(-5,5)\n",
    "plt.ylim(-2,2)"
   ]
  },
  {
   "cell_type": "markdown",
   "id": "45555436-490c-491c-aa6e-4a214d5be0ad",
   "metadata": {},
   "source": [
    "#### Ticks and tick labels\n"
   ]
  },
  {
   "cell_type": "code",
   "execution_count": null,
   "id": "da413f83-5e96-4ee2-8f6d-afc2699667b2",
   "metadata": {
    "tags": []
   },
   "outputs": [],
   "source": [
    "\n",
    "\n",
    "# Set x-axis ticks at 0, 0.25, 0.5, 0.75, 1.0 with all labeled\n",
    "plt.xticks([0,0.25,0.5,0.75,1.0])\n",
    "# Set y-axis ticks from 0 to 100 with ticks on 10s and labels on 20s\n",
    "plt.yticks(np.arange(0,101,10),['0','','20','','40','','60','','80','','100'])"
   ]
  },
  {
   "cell_type": "markdown",
   "id": "9c8bf298-321b-454f-be5c-37f3c810b116",
   "metadata": {},
   "source": [
    "#### Set labels on the axes"
   ]
  },
  {
   "cell_type": "code",
   "execution_count": null,
   "id": "90593a82-c4af-4d36-b8e5-e96d8d315826",
   "metadata": {
    "tags": []
   },
   "outputs": [],
   "source": [
    "# Initialize empty figure\n",
    "fig1 = plt.figure()\n",
    "# Plot sine wave \n",
    "plt.plot(x, ysin, color='darkblue')\n",
    "\n",
    "# Set x-axis limits\n",
    "plt.xlim(-5,5)\n",
    "\n",
    "# Set axis ticks\n",
    "plt.xticks([-4,-3,-2,-1,0,1,2,3,4],['-4','','-2','','0','','2','','4'])\n",
    "plt.yticks([-1,-0.5,0,0.5,1])\n",
    "\n",
    "# Set axis labels, will not get automatically from matplotlib, but seaborn may do it\n",
    "plt.xlabel('x-axis')\n",
    "plt.ylabel('y-axis')"
   ]
  },
  {
   "cell_type": "markdown",
   "id": "48c9e8d9-b8dc-41be-8ee3-24b77c7749f5",
   "metadata": {},
   "source": [
    "#### Title Command"
   ]
  },
  {
   "cell_type": "code",
   "execution_count": null,
   "id": "9ffb8589-e203-476c-a96e-fd92f72beb2d",
   "metadata": {
    "tags": []
   },
   "outputs": [],
   "source": [
    "# Initialize empty figure\n",
    "fig1 = plt.figure()\n",
    "# Plot sine wave \n",
    "plt.plot(x, ysin, color='darkblue')\n",
    "plt.plot(x, ycos, color='#B8D62E')\n",
    "\n",
    "# Set x-axis limits\n",
    "plt.xlim(-5,5)\n",
    "\n",
    "# Set axis ticks\n",
    "plt.xticks([-4,-3,-2,-1,0,1,2,3,4],['-4','','-2','','0','','2','','4'])\n",
    "plt.yticks([-1,-0.5,0,0.5,1])\n",
    "\n",
    "# Set axis labels\n",
    "plt.xlabel(r'$x$')\n",
    "plt.ylabel(r'$y$')\n",
    "\n",
    "# Set title\n",
    "plt.title('Sinusoidal functions')"
   ]
  },
  {
   "cell_type": "markdown",
   "id": "0225ab18-e102-4941-981c-dc1006ec3c7c",
   "metadata": {},
   "source": [
    "### legends "
   ]
  },
  {
   "cell_type": "code",
   "execution_count": null,
   "id": "891009cd-663e-465a-a2c7-282e4cb0c620",
   "metadata": {
    "tags": []
   },
   "outputs": [],
   "source": [
    "# Initialize empty figure\n",
    "fig1 = plt.figure()\n",
    "# Plot sine wave \n",
    "plt.plot(x, ysin, color='darkblue')\n",
    "plt.plot(x, ycos, color='#B8D62E')\n",
    "\n",
    "# Set x-axis limits\n",
    "plt.xlim(-5,5)\n",
    "\n",
    "# Set axis ticks\n",
    "plt.xticks([-4,-3,-2,-1,0,1,2,3,4],['-4','','-2','','0','','2','','4'])\n",
    "plt.yticks([-1,-0.5,0,0.5,1])\n",
    "\n",
    "# Set axis labels\n",
    "plt.xlabel(r'$x$')\n",
    "plt.ylabel(r'$y$')\n",
    "\n",
    "# Set title\n",
    "plt.title('Sinusoidal functions')\n",
    "\n",
    "# Legend\n",
    "plt.legend(labels=['sin(x)','cos(x)'])"
   ]
  },
  {
   "cell_type": "markdown",
   "id": "003fee67-07c1-4571-9d70-20c2b0b63646",
   "metadata": {},
   "source": [
    "#### Can use label keyword also for labeling axes"
   ]
  },
  {
   "cell_type": "code",
   "execution_count": null,
   "id": "08ef352b-782d-480e-a34c-8d69924b884c",
   "metadata": {
    "tags": []
   },
   "outputs": [],
   "source": [
    "# Initialize empty figure\n",
    "fig1 = plt.figure()\n",
    "# Plot sine wave \n",
    "plt.plot(x, ysin, label='sin(x)', color='darkblue')\n",
    "plt.plot(x, ycos, label='cos(x)', color='#B8D62E')\n",
    "\n",
    "# Set x-axis limits\n",
    "plt.xlim(-5,5)\n",
    "\n",
    "# Set axis ticks\n",
    "plt.xticks([-4,-3,-2,-1,0,1,2,3,4],['-4','','-2','','0','','2','','4'])\n",
    "plt.yticks([-1,-0.5,0,0.5,1])\n",
    "\n",
    "# Set axis labels\n",
    "plt.xlabel(r'$x$')\n",
    "plt.ylabel(r'$y$')\n",
    "\n",
    "# Set title\n",
    "plt.title('Sinusoidal functions')\n",
    "\n",
    "# Legend\n",
    "plt.legend()"
   ]
  },
  {
   "cell_type": "markdown",
   "id": "654cd7b3-ea72-4b14-b235-f0becb4d5433",
   "metadata": {},
   "source": [
    "## Subplot Functions\n",
    "\n"
   ]
  },
  {
   "cell_type": "code",
   "execution_count": null,
   "id": "6ccb5b98-b56a-4111-8247-9c9d774b3618",
   "metadata": {
    "tags": []
   },
   "outputs": [],
   "source": [
    "# Initialize empty figure\n",
    "fig = plt.figure()\n",
    "# Add four axes\n",
    "ax1 = fig.add_subplot(2,2,1)\n",
    "ax2 = fig.add_subplot(2,2,2)\n",
    "ax3 = fig.add_subplot(2,2,3)\n",
    "ax4 = fig.add_subplot(2,2,4)\n",
    "\n",
    "# Plot data\n",
    "# Plot sine wave with different colors on different axes\n",
    "ax1.plot(x, np.sin(x - 0), color='darkblue')\n",
    "ax2.plot(x, np.sin(x - 1), color='m')\n",
    "ax3.plot(x, np.sin(x - 2), color=(0.0,0.8,0.81))\n",
    "ax4.plot(x, np.sin(x - 4), color='#B8D62E')\n",
    "\n",
    "# Set axes limits, labels, + ticks\n",
    "for i,ax in enumerate([ax1,ax2,ax3,ax4]):\n",
    "    # i is the list index, but subplots count from 1.\n",
    "    # so make a new variable to keep track of subplot number:\n",
    "    subplot_number =  i + 1 \n",
    "    # Set x limits \n",
    "    ax.set_xlim(-5,5)\n",
    "    # Set title\n",
    "    ax.set_title(f'$\\sin{{(x - {i})}}$')\n",
    "    # Only label x ticks and x-axis on bottom row\n",
    "    if subplot_number < 3:\n",
    "        ax.set_xticklabels([])\n",
    "    else:\n",
    "        ax.set_xlabel('x')\n",
    "    # Only label y ticks and y-axis on left column\n",
    "    if subplot_number == 1 or subplot_number == 3:\n",
    "        ax.set_ylabel('y')\n",
    "    else:\n",
    "        ax.set_yticklabels([])\n",
    "\n",
    "plt.tight_layout()"
   ]
  }
 ],
 "metadata": {
  "kernelspec": {
   "display_name": "Python 3.10.0",
   "language": "python",
   "name": "python3.10.0"
  },
  "language_info": {
   "codemirror_mode": {
    "name": "ipython",
    "version": 3
   },
   "file_extension": ".py",
   "mimetype": "text/x-python",
   "name": "python",
   "nbconvert_exporter": "python",
   "pygments_lexer": "ipython3",
   "version": "3.10.0"
  }
 },
 "nbformat": 4,
 "nbformat_minor": 5
}
