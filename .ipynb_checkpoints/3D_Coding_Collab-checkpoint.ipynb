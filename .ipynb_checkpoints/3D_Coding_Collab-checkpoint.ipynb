{
 "cells": [
  {
   "cell_type": "markdown",
   "id": "2280832b-169b-4b8b-ae43-f445986cd8a1",
   "metadata": {},
   "source": [
    "# Day 3: Session D - Working with Series\n",
    "\n",
    "https://eds-217-essential-python.github.io/course-materials/coding-colabs/3d_pandas_series.html\n",
    "\n",
    "Date: 09/05/2024"
   ]
  },
  {
   "cell_type": "code",
   "execution_count": null,
   "id": "353f2f47-16df-4df7-a8c3-d75a25486329",
   "metadata": {
    "tags": []
   },
   "outputs": [],
   "source": [
    "import pandas as pd\n",
    "import numpy as np"
   ]
  },
  {
   "cell_type": "code",
   "execution_count": null,
   "id": "2e478576-6747-4305-b095-e52c095708a8",
   "metadata": {
    "tags": []
   },
   "outputs": [],
   "source": [
    "fruits = pd.Series(['apple', 'banana', 'cherry', 'date', 'elderberry'], name='fruits')\n",
    "print(fruits)"
   ]
  },
  {
   "cell_type": "code",
   "execution_count": null,
   "id": "50feeb4e-c44c-4abf-bfd0-364c5848e352",
   "metadata": {
    "tags": []
   },
   "outputs": [],
   "source": [
    "#Work together to create a Series representing the prices of the fruits in our fruits Series.\n",
    "\n",
    "prices = pd.Series([0.5, 0.3, 1.0, 1.5, 2.0], index = fruits)\n",
    "print(prices)"
   ]
  },
  {
   "cell_type": "code",
   "execution_count": null,
   "id": "8e376630-7857-49d7-8ee7-306ea3f2e177",
   "metadata": {
    "tags": []
   },
   "outputs": [],
   "source": [
    "# total price of all fruits\n",
    "prices.sum()"
   ]
  },
  {
   "cell_type": "code",
   "execution_count": null,
   "id": "5a8eec9f-b14c-426e-becc-622198e8126c",
   "metadata": {
    "tags": []
   },
   "outputs": [],
   "source": [
    "#most expensive fruit\n",
    "\n",
    "prices.idxmax()"
   ]
  },
  {
   "cell_type": "code",
   "execution_count": null,
   "id": "31a3f3b1-86e5-46ba-a17e-711b9cb62c6f",
   "metadata": {
    "tags": []
   },
   "outputs": [],
   "source": [
    "# 3. Apply a 10% discount to all fruits priced over $1.0\n",
    "\n",
    "s = prices.mask(prices > 1.0, prices * 0.9)\n",
    "print(s)"
   ]
  },
  {
   "cell_type": "code",
   "execution_count": null,
   "id": "092cfea4-090c-480c-b5bd-693edbc7fe12",
   "metadata": {
    "tags": []
   },
   "outputs": [],
   "source": [
    "# 1. Calculate the average price of the fruits\n",
    "\n",
    "print(prices.mean()) "
   ]
  },
  {
   "cell_type": "code",
   "execution_count": null,
   "id": "68e2c433-a6a5-4ab0-9c67-2778de611a9d",
   "metadata": {
    "tags": []
   },
   "outputs": [],
   "source": [
    "# 2. Count how many fruits cost less than $1.0\n",
    "\n",
    "prices[prices < 1.0].count()"
   ]
  },
  {
   "cell_type": "code",
   "execution_count": null,
   "id": "02007f87-c33b-45e0-9618-1cc46d62d846",
   "metadata": {
    "tags": []
   },
   "outputs": [],
   "source": [
    "# 3. Calculate the price range (difference between max and min prices)\n",
    "\n",
    "print(prices.max() - prices.min())"
   ]
  },
  {
   "cell_type": "code",
   "execution_count": null,
   "id": "fdf94764-d514-4990-90d5-16d84515cae7",
   "metadata": {
    "tags": []
   },
   "outputs": [],
   "source": [
    "# 1. Add 'fig' to both Series (price: $1.2)\n",
    "\n",
    "prices[\"fig\"] = \"1.2\"\n",
    "print(prices)\n",
    "\n",
    "fruits[5] = \"figs\"\n",
    "print(fruits)"
   ]
  },
  {
   "cell_type": "code",
   "execution_count": null,
   "id": "68d7ceeb-9c0b-40e6-a48d-b93cf19553db",
   "metadata": {
    "tags": []
   },
   "outputs": [],
   "source": [
    "# 2. Remove 'banana' from both Series\n",
    "\n",
    "print(prices)\n",
    "print(prices.drop(labels=['banana']))\n",
    "\n",
    "\n",
    "fruits = fruits[fruits != \"banana\"].reset_index(drop = True)\n",
    "print(fruits)"
   ]
  },
  {
   "cell_type": "code",
   "execution_count": null,
   "id": "96aa8caa-0d40-4725-ab6e-725c87d80ea0",
   "metadata": {
    "tags": []
   },
   "outputs": [],
   "source": [
    "# 3. Sort both Series alphabetically by fruit name\n",
    "\n",
    "values_sort = fruits.sort_values()\n",
    "print(values_sort)\n",
    "\n",
    "index_sort = prices.sort_index()\n",
    "print(index_sort)\n"
   ]
  },
  {
   "cell_type": "code",
   "execution_count": null,
   "id": "9a421850-fd93-4e3d-8836-94bb8d4cbe99",
   "metadata": {},
   "outputs": [],
   "source": []
  }
 ],
 "metadata": {
  "kernelspec": {
   "display_name": "Python 3.10.0",
   "language": "python",
   "name": "python3.10.0"
  },
  "language_info": {
   "codemirror_mode": {
    "name": "ipython",
    "version": 3
   },
   "file_extension": ".py",
   "mimetype": "text/x-python",
   "name": "python",
   "nbconvert_exporter": "python",
   "pygments_lexer": "ipython3",
   "version": "3.10.0"
  }
 },
 "nbformat": 4,
 "nbformat_minor": 5
}
