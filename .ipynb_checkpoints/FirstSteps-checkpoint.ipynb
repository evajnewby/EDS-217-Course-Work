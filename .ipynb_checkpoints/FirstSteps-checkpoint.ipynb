{
 "cells": [
  {
   "cell_type": "markdown",
   "id": "0760fea0-1c6b-4efc-a9e7-43e38388b18b",
   "metadata": {},
   "source": [
    "# my first notebook"
   ]
  },
  {
   "cell_type": "code",
   "execution_count": null,
   "id": "9495b9d7-ba96-4b4c-8c86-d8c61835eafa",
   "metadata": {
    "tags": []
   },
   "outputs": [],
   "source": [
    "3 + 5"
   ]
  },
  {
   "cell_type": "markdown",
   "id": "e88817b4-6e8c-4749-b07b-86626d4feffd",
   "metadata": {
    "tags": []
   },
   "source": [
    "[Link to session 1b](https://eds-217-essential-python.github.io/course-materials/interactive-sessions/1b_Jupyter_Notebooks.html)\n",
    "\n",
    "a little code block:\n",
    "\n",
    "'''python\n",
    "3+3\n",
    "'''"
   ]
  },
  {
   "cell_type": "code",
   "execution_count": null,
   "id": "b348d409-d4d8-4c53-baef-e2b1640f12d5",
   "metadata": {
    "tags": []
   },
   "outputs": [],
   "source": [
    "4+5"
   ]
  },
  {
   "cell_type": "code",
   "execution_count": null,
   "id": "0616a4a5-0d0f-469a-ab12-9fa7c42d1882",
   "metadata": {
    "tags": []
   },
   "outputs": [],
   "source": [
    "from IPython.display import Image, display\n",
    "\n",
    "# Display in Image\n",
    "img_path = 'https://jupyterlab.readthedocs.io/en/stable/_images/interface-jupyterlab.png'"
   ]
  },
  {
   "cell_type": "code",
   "execution_count": null,
   "id": "e966595b-9aff-43ce-973b-a024dc70fe4c",
   "metadata": {
    "tags": []
   },
   "outputs": [],
   "source": [
    "display(Image(url=img_path, width=400))"
   ]
  }
 ],
 "metadata": {
  "kernelspec": {
   "display_name": "Python 3.10.0",
   "language": "python",
   "name": "python3.10.0"
  },
  "language_info": {
   "codemirror_mode": {
    "name": "ipython",
    "version": 3
   },
   "file_extension": ".py",
   "mimetype": "text/x-python",
   "name": "python",
   "nbconvert_exporter": "python",
   "pygments_lexer": "ipython3",
   "version": "3.10.0"
  }
 },
 "nbformat": 4,
 "nbformat_minor": 5
}
