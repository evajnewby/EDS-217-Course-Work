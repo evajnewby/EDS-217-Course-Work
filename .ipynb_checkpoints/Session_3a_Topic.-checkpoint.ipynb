{
 "cells": [
  {
   "cell_type": "markdown",
   "id": "78c3f707-3f05-45cf-9aa0-83aff85b5204",
   "metadata": {},
   "source": [
    "# Day 3: Session A - Control Flows\n",
    "\n",
    "https://eds-217-essential-python.github.io/course-materials/live-coding/3a_control_flows.html\n",
    "\n",
    "Date: 09/05/2024"
   ]
  },
  {
   "cell_type": "markdown",
   "id": "4c080a7e-d453-4153-995e-d51be5f0fcf0",
   "metadata": {},
   "source": [
    " ### Introduction to Control Flows\n",
    " \n",
    " Main types are conditionals (change based on a value) or loops (repeat based on a value)"
   ]
  },
  {
   "cell_type": "code",
   "execution_count": null,
   "id": "16b9ca3d-bdda-4798-b634-3fae96b8b257",
   "metadata": {},
   "outputs": [],
   "source": []
  },
  {
   "cell_type": "markdown",
   "id": "26b759ad-0685-4f83-bbf8-3a2cc869844d",
   "metadata": {},
   "source": [
    "### Conditionals"
   ]
  },
  {
   "cell_type": "markdown",
   "id": "52dc3007-ad65-4bd9-b747-cb7f854b3751",
   "metadata": {
    "tags": []
   },
   "source": [
    "  #### Basic If Statement\n",
    "  \n",
    "```` python  \n",
    "  # must start with a `:`\n",
    "if x > 10 #something:\n",
    "    print(x) # must be indented here\n",
    "    \n",
    "print(\"finished\")\n"
   ]
  },
  {
   "cell_type": "code",
   "execution_count": null,
   "id": "f055d4cf-06a3-4149-b656-f3f2081b4de3",
   "metadata": {
    "tags": []
   },
   "outputs": [],
   "source": [
    "number = 5\n",
    "if number > 0:\n",
    "    print(\"Positive number\")"
   ]
  },
  {
   "cell_type": "code",
   "execution_count": null,
   "id": "dc0c7c10-a007-4b38-a400-c26773e04528",
   "metadata": {
    "tags": []
   },
   "outputs": [],
   "source": [
    "# The if statement uses Boolean `True` or `False` to determind code execution\n",
    "if True:\n",
    "    print(\"Positive number\")\n",
    "    \n",
    "if False:\n",
    "    print(\"Another Positive number\")"
   ]
  },
  {
   "cell_type": "markdown",
   "id": "5d1a07ee-d17c-4caa-9cbb-4260e1f4d2fd",
   "metadata": {
    "tags": []
   },
   "source": [
    "#### Adding Else\n"
   ]
  },
  {
   "cell_type": "code",
   "execution_count": null,
   "id": "67116230-f6e1-4771-8372-1dac20000bdc",
   "metadata": {
    "tags": []
   },
   "outputs": [],
   "source": [
    "number = 8\n",
    "if number > 0:\n",
    "    print(\"Positive number\")\n",
    "else: \n",
    "    print(\"Not a positive number\")"
   ]
  },
  {
   "cell_type": "markdown",
   "id": "8f0f5e8b-da47-4b80-97c7-fe6bbce93b4d",
   "metadata": {},
   "source": [
    "#### Using Elif"
   ]
  },
  {
   "cell_type": "code",
   "execution_count": null,
   "id": "b3761ad1-6a8a-4cf7-b7d6-ea5676344197",
   "metadata": {
    "tags": []
   },
   "outputs": [],
   "source": [
    "number = -5\n",
    "if number > 0:\n",
    "    print(\"Positive Number\")\n",
    "elif number <0 :\n",
    "    print(\"Negative Number\")\n",
    "else:\n",
    "    print(\"Zero\")"
   ]
  },
  {
   "cell_type": "markdown",
   "id": "e075e6f4-7837-4d30-b392-98073901c504",
   "metadata": {},
   "source": [
    " ### Loops\n",
    "\n",
    "#### For Loops"
   ]
  },
  {
   "cell_type": "code",
   "execution_count": null,
   "id": "6698fe61-c29f-4da0-ab6b-71d2a3bbe751",
   "metadata": {},
   "outputs": [],
   "source": []
  },
  {
   "cell_type": "markdown",
   "id": "3f754558-5b3f-4506-ac0b-73e5ebfd5975",
   "metadata": {},
   "source": [
    "#### While Loops"
   ]
  },
  {
   "cell_type": "code",
   "execution_count": null,
   "id": "3eec62c3-051e-45d3-b2d7-4aca0f4df899",
   "metadata": {},
   "outputs": [],
   "source": []
  },
  {
   "cell_type": "markdown",
   "id": "c7cdb132-c6ef-436e-9aea-53fa60ebaceb",
   "metadata": {},
   "source": [
    "### Applying Control Flows in Data Science"
   ]
  },
  {
   "cell_type": "code",
   "execution_count": null,
   "id": "862bd33f-5108-434b-89ea-81144585e85f",
   "metadata": {},
   "outputs": [],
   "source": []
  },
  {
   "cell_type": "markdown",
   "id": "e9a4c7fe-ae1c-4999-a86c-425289ebafdb",
   "metadata": {},
   "source": [
    " ### Conclusion"
   ]
  },
  {
   "cell_type": "code",
   "execution_count": null,
   "id": "dceb8aa8-9103-48fd-abff-f31bc3ea3991",
   "metadata": {},
   "outputs": [],
   "source": []
  }
 ],
 "metadata": {
  "kernelspec": {
   "display_name": "Python 3.10.0",
   "language": "python",
   "name": "python3.10.0"
  },
  "language_info": {
   "codemirror_mode": {
    "name": "ipython",
    "version": 3
   },
   "file_extension": ".py",
   "mimetype": "text/x-python",
   "name": "python",
   "nbconvert_exporter": "python",
   "pygments_lexer": "ipython3",
   "version": "3.10.0"
  }
 },
 "nbformat": 4,
 "nbformat_minor": 5
}
