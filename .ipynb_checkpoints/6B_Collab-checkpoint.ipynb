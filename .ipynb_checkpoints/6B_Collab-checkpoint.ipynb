{
 "cells": [
  {
   "cell_type": "markdown",
   "id": "76b90432-c0b6-4b49-b851-24d549dc02bf",
   "metadata": {},
   "source": [
    "# Coding Collab \n",
    "\n",
    "https://eds-217-essential-python.github.io/course-materials/coding-colabs/6b_advanced_data_manipulation.html\n",
    "\n",
    "9/10/24"
   ]
  },
  {
   "cell_type": "code",
   "execution_count": null,
   "id": "c9f195ec-a25f-4f10-b463-8c081585ce40",
   "metadata": {
    "tags": []
   },
   "outputs": [],
   "source": [
    "import pandas as pd\n",
    "import matplotlib.pyplot as plt\n",
    "import seaborn as sns\n",
    "\n",
    "# Load the temperature anomaly dataset\n",
    "temp_url = \"https://bit.ly/monthly_temp\"\n",
    "temp_df = pd.read_csv(temp_url, parse_dates=['Date'])\n",
    "\n",
    "# Load the CO2 concentration dataset\n",
    "co2_url = \"https://bit.ly/monthly_CO2\"\n",
    "co2_df = pd.read_csv(co2_url, parse_dates=['Date'])\n",
    "\n",
    "print(\"Temperature data:\")\n",
    "print(temp_df.head())\n",
    "print(\"\\nCO2 data:\")\n",
    "print(co2_df.head())"
   ]
  },
  {
   "cell_type": "markdown",
   "id": "1ed31c9b-ab04-4ddc-ab00-cf06fb1fd022",
   "metadata": {
    "tags": []
   },
   "source": [
    "## Task 1: Data Preparation"
   ]
  },
  {
   "cell_type": "code",
   "execution_count": null,
   "id": "28ed7046-e866-491a-8553-f8a4436f8cea",
   "metadata": {
    "tags": []
   },
   "outputs": [],
   "source": [
    "temp_df.set_index('Date', inplace=True)\n",
    "\n",
    "co2_df.set_index('Date', inplace=True)"
   ]
  },
  {
   "cell_type": "code",
   "execution_count": null,
   "id": "219b223c-a5f7-49a5-944f-2a9499fbfec3",
   "metadata": {
    "tags": []
   },
   "outputs": [],
   "source": [
    "# Check for missing values\n",
    "\n",
    "print(temp_df.isnull().sum())\n",
    "\n",
    "print(co2_df.isnull().sum())"
   ]
  },
  {
   "cell_type": "markdown",
   "id": "0b03319f-b6e6-471e-b673-53b468ae30de",
   "metadata": {},
   "source": [
    "## Task 2: Joining Dataseta\n"
   ]
  },
  {
   "cell_type": "code",
   "execution_count": null,
   "id": "8cf6b20a-11d1-439c-b32a-213792247998",
   "metadata": {
    "tags": []
   },
   "outputs": [],
   "source": [
    "# Merge the temperature and CO2 datasets based on their date index.\n",
    "\n",
    "merged_df = pd.merge(temp_df, co2_df, on = \"Date\", how = \"inner\")\n",
    "print(merged_df)"
   ]
  },
  {
   "cell_type": "code",
   "execution_count": null,
   "id": "cf3a039a-70cc-44c2-a29f-e630f572df58",
   "metadata": {
    "tags": []
   },
   "outputs": [],
   "source": [
    "# Handle any missing values that may have been introduced by the merge.\n",
    "\n",
    "print(merged_df.isnull().sum())"
   ]
  },
  {
   "cell_type": "code",
   "execution_count": null,
   "id": "d0703aa0-2b09-49c7-867d-ea439510c413",
   "metadata": {
    "tags": []
   },
   "outputs": [],
   "source": [
    "# Create some plots showing temperature anomalies and CO2 concentrations over time using pandas built-in plotting functions.\n",
    "\n",
    "print(merged_df.plot(y = 'MonthlyAnomaly', use_index = True))\n",
    "print(merged_df.plot(y = 'CO2Concentration', use_index = True))"
   ]
  },
  {
   "cell_type": "markdown",
   "id": "8b5f56b7-e016-4f8e-b531-c28d1c373e07",
   "metadata": {},
   "source": [
    "## Task 3: Time Series Analysis"
   ]
  },
  {
   "cell_type": "code",
   "execution_count": null,
   "id": "01d30c99-2a1e-4d82-94f9-c21b1af21f23",
   "metadata": {
    "tags": []
   },
   "outputs": [],
   "source": [
    "# Resample the data to annual averages.\n",
    "\n",
    "annual_avg = merged_df.copy()\n",
    "annual_avg = annual_avg.groupby(merged_df.index.year).mean()\n",
    "annual_avg.head(5)"
   ]
  },
  {
   "cell_type": "code",
   "execution_count": null,
   "id": "6392ec4d-51e2-4ee6-aae5-247fb46f9330",
   "metadata": {
    "tags": []
   },
   "outputs": [],
   "source": [
    "# Calculate the year-over-year change in temperature anomalies and CO2 concentrations.\n",
    "\n",
    "def year_over_year(year1, year2):\n",
    "    anomaly_year = (annual_avg['MonthlyAnomaly'][year1])-(annual_avg['MonthlyAnomaly'][year2])\n",
    "    co2_year = (annual_avg['CO2Concentration'][year1])-(annual_avg['CO2Concentration'][year2])\n",
    "    print(anomaly_year,co2_year)\n",
    "    \n",
    "    "
   ]
  },
  {
   "cell_type": "code",
   "execution_count": null,
   "id": "57f83dfd-7095-494f-95cd-7761d16032e0",
   "metadata": {
    "tags": []
   },
   "outputs": [],
   "source": [
    "# also...\n",
    "\n",
    "annual_avg['monthly_y2y'] = annual_avg['MonthlyAnomaly'].diff()\n",
    "annual_avg['co2_y2y'] = annual_avg['CO2Concentration'].diff()\n",
    "annual_avg.head(5)"
   ]
  },
  {
   "cell_type": "code",
   "execution_count": null,
   "id": "8fb2a45b-f26c-41a5-bebe-3ad849d0dac4",
   "metadata": {
    "tags": []
   },
   "outputs": [],
   "source": [
    "year_over_year(2020, 2021)"
   ]
  },
  {
   "cell_type": "code",
   "execution_count": null,
   "id": "f87806ec-26bd-4727-9aba-52ee068682af",
   "metadata": {
    "tags": []
   },
   "outputs": [],
   "source": [
    "# Create a scatter plot (use the plt.scatter() function) of annual temperature anomalies vs CO2 concentrations.\n",
    "\n",
    "annual_avg.plot.scatter(x = 'monthly_y2y', y = 'co2_y2y')"
   ]
  },
  {
   "cell_type": "markdown",
   "id": "3cc8d74c-8133-4a78-95f4-e64283fe2066",
   "metadata": {},
   "source": [
    "## Task 4: Seasonal Analysis"
   ]
  },
  {
   "cell_type": "code",
   "execution_count": null,
   "id": "47a368f4-6bf1-4df1-8956-c81b6b7b2997",
   "metadata": {
    "tags": []
   },
   "outputs": [],
   "source": [
    "# create a function to extract the season from a given date (hint: use the date.month attribute and if-elif-else to assign the season in your function).\n",
    "\n",
    "# from merged_df import Date\n",
    "\n",
    "def season(date):\n",
    "    #date = pd.to_datetime(date)\n",
    "    month = date.month\n",
    "    \n",
    "    if month in (12, 1, 2):\n",
    "        return \"Winter\"\n",
    "    elif month in (3, 4, 5):\n",
    "        return \"Spring\"\n",
    "    elif month in (6, 7, 8):\n",
    "        return \"Summer\"\n",
    "    elif month in (9, 10, 11):\n",
    "        return \"Fall\"\n",
    "    else:\n",
    "        return (season)\n"
   ]
  },
  {
   "cell_type": "code",
   "execution_count": null,
   "id": "ae40d592-fe19-4079-bb70-9f3315a6d137",
   "metadata": {
    "tags": []
   },
   "outputs": [],
   "source": [
    "# Use the function to create a new column called Season\n",
    "merged_df['Season'] = merged_df.index.map(season)\n",
    "merged_df.head()\n"
   ]
  },
  {
   "cell_type": "code",
   "execution_count": null,
   "id": "a34ddb1f-f774-4c16-a593-2bee763dbbd2",
   "metadata": {
    "tags": []
   },
   "outputs": [],
   "source": [
    "# Calculate the average temperature anomaly and CO2 concentration for each season.\n",
    "\n",
    "merged_df = merged_df.groupby('Season').mean('MonthlyAnomaly')\n",
    "merged_df = merged_df.groupby('Season').mean('CO2Concentration')"
   ]
  },
  {
   "cell_type": "code",
   "execution_count": null,
   "id": "e4af9074-6c10-45cc-a738-b3d67c92c450",
   "metadata": {},
   "outputs": [],
   "source": [
    "# Create a box plot (use sns.boxplot) showing the distribution of temperature anomalies for each season.\n",
    "merged_df.sns.boxplot()"
   ]
  },
  {
   "cell_type": "code",
   "execution_count": null,
   "id": "6c789e6a-fb0d-4d48-9adf-9e4eeffae217",
   "metadata": {},
   "outputs": [],
   "source": []
  }
 ],
 "metadata": {
  "kernelspec": {
   "display_name": "Python 3.10.0",
   "language": "python",
   "name": "python3.10.0"
  },
  "language_info": {
   "codemirror_mode": {
    "name": "ipython",
    "version": 3
   },
   "file_extension": ".py",
   "mimetype": "text/x-python",
   "name": "python",
   "nbconvert_exporter": "python",
   "pygments_lexer": "ipython3",
   "version": "3.10.0"
  }
 },
 "nbformat": 4,
 "nbformat_minor": 5
}
