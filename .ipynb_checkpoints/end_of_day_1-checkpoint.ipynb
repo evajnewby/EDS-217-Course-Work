{
 "cells": [
  {
   "cell_type": "markdown",
   "id": "af481fc6-2a1a-4778-9732-c573087d4905",
   "metadata": {},
   "source": [
    "# example python data science workflow \n",
    "\n",
    "steps: \n",
    "\n",
    "0. get ready!\n",
    "1. Import\n",
    "2. Clean\n",
    "3. Filter\n",
    "4. Sort\n",
    "5. Transform\n",
    "6. Group\n",
    "7. Aggregate\n",
    "8. Plot/ Visualize\n",
    "\n",
    "## 0. Get Ready!"
   ]
  },
  {
   "cell_type": "code",
   "execution_count": null,
   "id": "a28ce99e-de5a-491e-9d49-613b3dd6b7b3",
   "metadata": {
    "tags": []
   },
   "outputs": [],
   "source": [
    "import pandas as pd \n",
    "import matplotlib.pyplot as plt"
   ]
  },
  {
   "cell_type": "markdown",
   "id": "12e1555d-78cf-41d5-9d46-622d679a91b8",
   "metadata": {},
   "source": [
    "## 1. Import"
   ]
  },
  {
   "cell_type": "code",
   "execution_count": null,
   "id": "2d00e2d4-de9a-4f77-b199-7cf064aecf72",
   "metadata": {
    "tags": []
   },
   "outputs": [],
   "source": [
    "# Make a url variable:\n",
    "url = 'https://raw.githubusercontent.com/environmental-data-science/eds217-day0-comp/main/data/raw_data/toolik_weather.csv'"
   ]
  },
  {
   "cell_type": "code",
   "execution_count": null,
   "id": "1636cad0-0b34-401e-916f-266cac2bc42d",
   "metadata": {
    "tags": []
   },
   "outputs": [],
   "source": [
    "# Import the url to a dataframe using pd.read_csv\n",
    "\n",
    "df = pd.read_csv(url)"
   ]
  },
  {
   "cell_type": "code",
   "execution_count": null,
   "id": "744f98cb-b644-4d69-ae32-3c3fec5f1aec",
   "metadata": {
    "tags": []
   },
   "outputs": [],
   "source": [
    "df.head()"
   ]
  },
  {
   "cell_type": "code",
   "execution_count": null,
   "id": "df2b1870-cb8f-4d32-80c7-31635e962dba",
   "metadata": {
    "tags": []
   },
   "outputs": [],
   "source": [
    "# Count the number of missing (null) values in each column.\n",
    "df.isnull().sum()"
   ]
  },
  {
   "cell_type": "code",
   "execution_count": null,
   "id": "8e2cd898-593b-4c24-86c4-879d9d1791d3",
   "metadata": {
    "tags": []
   },
   "outputs": [],
   "source": [
    "df.describe()"
   ]
  },
  {
   "cell_type": "code",
   "execution_count": null,
   "id": "a3b369dc-8061-48cb-9eb5-4e2dfc8a9280",
   "metadata": {
    "tags": []
   },
   "outputs": [],
   "source": [
    "df.info()"
   ]
  },
  {
   "cell_type": "markdown",
   "id": "dbd84229-a527-4003-8ca9-009aa5651388",
   "metadata": {},
   "source": [
    "### Steps 2-5 (Intentionally left blank)\n",
    "\n",
    "\n",
    "### Step 6:"
   ]
  },
  {
   "cell_type": "code",
   "execution_count": null,
   "id": "00e93fcc-fa12-4115-bb8f-ab82d3914342",
   "metadata": {
    "tags": []
   },
   "outputs": [],
   "source": [
    "monthly = df.groupby('Month')\n",
    "print(type(monthly))"
   ]
  },
  {
   "cell_type": "markdown",
   "id": "1b7b445b-f60a-4b85-a65c-0ee7a3fe221e",
   "metadata": {},
   "source": [
    "### Steps 7: Aggregate (get monthly averages)"
   ]
  },
  {
   "cell_type": "code",
   "execution_count": null,
   "id": "20734d3d-1684-4c67-9b71-86f11704e202",
   "metadata": {
    "tags": []
   },
   "outputs": [],
   "source": [
    "monthly_means = monthly['Daily_AirTemp_Mean_C'].mean()\n",
    "print(monthly_means)"
   ]
  },
  {
   "cell_type": "markdown",
   "id": "5a245f03-5560-4e2c-8abb-c97f0fc49159",
   "metadata": {},
   "source": [
    "### Step 8: Make a Plot! Woop woop yeehaw"
   ]
  },
  {
   "cell_type": "code",
   "execution_count": null,
   "id": "61993be6-7811-4f08-af82-fc3bd802681d",
   "metadata": {
    "tags": []
   },
   "outputs": [],
   "source": [
    "month_names = ['Jan', 'Feb', 'March', 'Apr', 'May', 'June', 'July', 'Aug', 'Sept', 'Oct', 'Nov', 'Dec']\n",
    "plt.bar(month_names, monthly_means)"
   ]
  }
 ],
 "metadata": {
  "kernelspec": {
   "display_name": "Python 3.10.0",
   "language": "python",
   "name": "python3.10.0"
  },
  "language_info": {
   "codemirror_mode": {
    "name": "ipython",
    "version": 3
   },
   "file_extension": ".py",
   "mimetype": "text/x-python",
   "name": "python",
   "nbconvert_exporter": "python",
   "pygments_lexer": "ipython3",
   "version": "3.10.0"
  }
 },
 "nbformat": 4,
 "nbformat_minor": 5
}
