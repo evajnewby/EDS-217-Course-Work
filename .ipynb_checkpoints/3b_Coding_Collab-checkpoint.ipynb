{
 "cells": [
  {
   "cell_type": "code",
   "execution_count": null,
   "id": "e3d92dc5-0b66-4a83-ada0-044a8b4a954f",
   "metadata": {
    "tags": []
   },
   "outputs": [],
   "source": [
    "temperature = 20\n",
    "if temperature > 25:\n",
    "    print('It’s a hot day, stay hydrated')\n",
    "else:\n",
    "    print('Enjoy the pleasant weather!')"
   ]
  },
  {
   "cell_type": "code",
   "execution_count": null,
   "id": "1340c2a0-a79e-4d32-b861-c0f50820ab80",
   "metadata": {
    "tags": []
   },
   "outputs": [],
   "source": [
    "score = 85\n",
    "if score >= 90:\n",
    "    print('A')\n",
    "elif score > 80 and score <= 89:\n",
    "    print('B')\n",
    "elif score > 70 and score <= 70:\n",
    "    print('C')\n",
    "elif score > 60 and score <= 69:\n",
    "    print('D')\n",
    "else:\n",
    "    print('F')"
   ]
  },
  {
   "cell_type": "code",
   "execution_count": null,
   "id": "ff7e05b1-0c66-4429-a145-3aee76c62695",
   "metadata": {
    "tags": []
   },
   "outputs": [],
   "source": [
    "for i in range(1,6):\n",
    "    print(f\"{i} sheep\")"
   ]
  },
  {
   "cell_type": "code",
   "execution_count": null,
   "id": "3062e10b-982c-4861-8e47-069d3222646e",
   "metadata": {
    "tags": []
   },
   "outputs": [],
   "source": [
    "total = 0\n",
    "for i in range(1,11):\n",
    "    print(i + total)"
   ]
  },
  {
   "cell_type": "code",
   "execution_count": null,
   "id": "8f1d38b2-a7e8-481d-a0ca-d486dfbda285",
   "metadata": {
    "tags": []
   },
   "outputs": [],
   "source": [
    "countdown = 5\n",
    "while countdown > -1:\n",
    "    print(countdown)\n",
    "    if countdown == 0:\n",
    "        print('blast off!')\n",
    "    countdown -= 1\n",
    "    "
   ]
  }
 ],
 "metadata": {
  "kernelspec": {
   "display_name": "Python 3.10.0",
   "language": "python",
   "name": "python3.10.0"
  },
  "language_info": {
   "codemirror_mode": {
    "name": "ipython",
    "version": 3
   },
   "file_extension": ".py",
   "mimetype": "text/x-python",
   "name": "python",
   "nbconvert_exporter": "python",
   "pygments_lexer": "ipython3",
   "version": "3.10.0"
  }
 },
 "nbformat": 4,
 "nbformat_minor": 5
}
