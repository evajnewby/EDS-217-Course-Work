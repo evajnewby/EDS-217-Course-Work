{
 "cells": [
  {
   "cell_type": "code",
   "execution_count": null,
   "id": "04281811-63fd-4d07-86c6-88a236314f87",
   "metadata": {
    "tags": []
   },
   "outputs": [],
   "source": [
    "import pandas as pd\n",
    "import numpy as np\n",
    "\n",
    "# Load the dataset\n",
    "url = \"https://raw.githubusercontent.com/rfordatascience/tidytuesday/master/data/2019/2019-09-17/national_parks.csv\"\n",
    "parks_df = pd.read_csv(url)"
   ]
  },
  {
   "cell_type": "markdown",
   "id": "4125a434-ad70-405d-ada5-c65cfe5e5683",
   "metadata": {},
   "source": [
    "## Task 1: Data Exploration and Cleaning"
   ]
  },
  {
   "cell_type": "code",
   "execution_count": null,
   "id": "465d4fa9-1875-4c20-ac7c-2a13054ea88e",
   "metadata": {
    "tags": []
   },
   "outputs": [],
   "source": [
    "print(parks_df.shape)"
   ]
  },
  {
   "cell_type": "code",
   "execution_count": null,
   "id": "bb8b3831-36e7-45e5-9871-92533c6141a5",
   "metadata": {
    "tags": []
   },
   "outputs": [],
   "source": [
    "print(parks_df.columns)"
   ]
  },
  {
   "cell_type": "code",
   "execution_count": null,
   "id": "3c243a16-f108-46b6-b3a6-8c1c5345fb03",
   "metadata": {
    "tags": []
   },
   "outputs": [],
   "source": [
    "print(parks_df.dtypes)"
   ]
  },
  {
   "cell_type": "code",
   "execution_count": null,
   "id": "c0b70531-020c-4d6c-8999-5b1ccbd15e2c",
   "metadata": {
    "tags": []
   },
   "outputs": [],
   "source": [
    "parks_df.isnull().sum()"
   ]
  },
  {
   "cell_type": "code",
   "execution_count": null,
   "id": "aead1758-84ac-4942-afe5-3bcc5ca49f59",
   "metadata": {
    "tags": []
   },
   "outputs": [],
   "source": [
    "help(parks_df.drop)"
   ]
  },
  {
   "cell_type": "code",
   "execution_count": null,
   "id": "966c9672-2e4c-41dc-a531-3d533c426d03",
   "metadata": {
    "tags": []
   },
   "outputs": [],
   "source": [
    "parks_df = parks_df[parks_df['year'] != 'Total']\n",
    "print(parks_df)"
   ]
  },
  {
   "cell_type": "code",
   "execution_count": null,
   "id": "6ea12bc0-ce10-4f32-8438-d5157bf09712",
   "metadata": {
    "tags": []
   },
   "outputs": [],
   "source": [
    "# Convert year column to numeric type\n",
    "\n",
    "parks_df['year'] = pd.to_numeric(parks_df['year'])\n",
    "parks_df['year'].dtype\n",
    "                       "
   ]
  },
  {
   "cell_type": "code",
   "execution_count": null,
   "id": "9aa9da2b-2be6-4bfa-a3b4-ca6f001ca39d",
   "metadata": {},
   "outputs": [],
   "source": []
  }
 ],
 "metadata": {
  "kernelspec": {
   "display_name": "Python 3.10.0",
   "language": "python",
   "name": "python3.10.0"
  },
  "language_info": {
   "codemirror_mode": {
    "name": "ipython",
    "version": 3
   },
   "file_extension": ".py",
   "mimetype": "text/x-python",
   "name": "python",
   "nbconvert_exporter": "python",
   "pygments_lexer": "ipython3",
   "version": "3.10.0"
  }
 },
 "nbformat": 4,
 "nbformat_minor": 5
}
