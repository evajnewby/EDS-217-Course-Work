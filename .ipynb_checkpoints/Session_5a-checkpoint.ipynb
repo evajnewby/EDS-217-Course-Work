{
 "cells": [
  {
   "cell_type": "markdown",
   "id": "c3001a1b-a6c5-4623-9dd6-45a5ec1225bf",
   "metadata": {},
   "source": [
    "# Basic Pandas Selection and Filtering\n",
    "\n",
    "https://eds-217-essential-python.github.io/course-materials/live-coding/5a_selecting_and_filtering.html\n",
    "\n",
    "9/9/24"
   ]
  },
  {
   "cell_type": "markdown",
   "id": "113ff517-e279-4dc5-a80f-02550066a138",
   "metadata": {},
   "source": [
    "# Introduction to Pandas Selection and Filtering\n",
    "\n",
    "## 1. Setup"
   ]
  },
  {
   "cell_type": "code",
   "execution_count": null,
   "id": "154c7a27-a491-484b-930f-fbbf246adf7e",
   "metadata": {
    "tags": []
   },
   "outputs": [],
   "source": [
    "import pandas as pd\n",
    "import numpy as np\n",
    "\n",
    "url = 'https://bit.ly/eds217-studentdata'\n",
    "\n",
    "df = pd.read_csv(url)"
   ]
  },
  {
   "cell_type": "code",
   "execution_count": null,
   "id": "62b8b600-d557-493c-a0f5-781921a6db52",
   "metadata": {
    "tags": []
   },
   "outputs": [],
   "source": [
    "df.head()"
   ]
  },
  {
   "cell_type": "markdown",
   "id": "d1cb9022-91af-42d7-adc6-46aa610f26c4",
   "metadata": {},
   "source": [
    "## 2. Basic Selection"
   ]
  },
  {
   "cell_type": "code",
   "execution_count": null,
   "id": "ac1ab969-5976-48d6-bfc8-ea59b2199fb4",
   "metadata": {
    "tags": []
   },
   "outputs": [],
   "source": [
    "# Selecting a single column from a data frame and assign it to a series:\n",
    "\n",
    "majors = df['major']\n",
    "print(type(majors))\n",
    "\n",
    "# Selecting multiple columns from a dataframe and assign it to a new data frame:\n",
    "# provide a list of columns into the selector/filter brackets:\n",
    "\n",
    "id_major = df[['student_id', 'major']] # if you wrap in this list, you create a df, if not (like above), it's a series\n",
    "print(id_major.head())\n",
    "print(type(id_major))\n"
   ]
  },
  {
   "cell_type": "markdown",
   "id": "a972309b-dab1-495f-908e-80dc8da2f8ba",
   "metadata": {},
   "source": [
    "## 3. Filtering Based on Column Values"
   ]
  },
  {
   "cell_type": "markdown",
   "id": "3c2b617b-c271-4de2-a97b-17f345bf351f",
   "metadata": {},
   "source": [
    "### 3a. Single Condition Filtering"
   ]
  },
  {
   "cell_type": "code",
   "execution_count": null,
   "id": "b67d2942-06e0-4e1c-b457-becf88712092",
   "metadata": {
    "tags": []
   },
   "outputs": [],
   "source": [
    "# Filtering on the value of a single condition (usually a single column's values).\n",
    "# Select only rows wwith gpa > 3.7\n",
    "\n",
    "high_achievers = df[ df['gpa'] > 3.7 ]\n",
    "type(high_achievers)\n",
    "high_achievers.head()"
   ]
  },
  {
   "cell_type": "markdown",
   "id": "20826321-eef8-458f-971b-f485ce8fa1c2",
   "metadata": {},
   "source": [
    "### 3b. Multiple Conditions with Logical Operators"
   ]
  },
  {
   "cell_type": "code",
   "execution_count": null,
   "id": "81149bbf-2e03-4c85-82a2-ca1933d08d02",
   "metadata": {
    "tags": []
   },
   "outputs": [],
   "source": [
    "# Filtering on the values of multiple conditions (usually multiple column values, but not always)\n",
    "#Find students less than 20 years old majoring in mathematics\n",
    "\n",
    "young_math = df[ (df['age'] < 20) & (df['major'] == 'Mathematics')]\n",
    "print(young_math)\n",
    "type(young_math)\n",
    "\n",
    "# Find students who are either 22 or have a GPA of 3.5 exactly\n",
    "# the \"or\" operator is `|`\n",
    "\n",
    "specific_students = df[ (df['age'] == 22) | (df['gpa'] == 3.5)]\n",
    "print(specific_students.head())\n",
    "print(type(specific_students))"
   ]
  },
  {
   "cell_type": "markdown",
   "id": "956256aa-61f4-481c-bab7-c80d21388db0",
   "metadata": {},
   "source": [
    "### 3c. Using the filter command\n",
    "\n",
    "Use the filter command to match specific columns or rows based on labels (column names or index labels)\n",
    "\n",
    "use the `like` argument to filter/select substrings (especially useful for large dataframes wih many columns!)"
   ]
  },
  {
   "cell_type": "code",
   "execution_count": null,
   "id": "99bfe628-b365-4da6-9a65-e3c459aad515",
   "metadata": {
    "tags": []
   },
   "outputs": [],
   "source": [
    "# Filter all the columns that contain the substring 'id':\n",
    "\n",
    "id_columns = df.filter(like = 'id')\n",
    "\n",
    "# Filter all the ows where the index conins a `5`: \n",
    "#By defaul `filter` filters columns, if you want rows, need to add `axis`:\n",
    "\n",
    "rows_with_5 = df.filter(like = '5', axis = 0)\n",
    "print(rows_with_5)"
   ]
  },
  {
   "cell_type": "markdown",
   "id": "13e767e2-3fa9-4dfe-92a6-24834805e56f",
   "metadata": {},
   "source": [
    "the `filter()` command also can take `regex` argument:"
   ]
  },
  {
   "cell_type": "code",
   "execution_count": null,
   "id": "f4aa400c-7d1a-4684-83fd-00b755a39998",
   "metadata": {
    "tags": []
   },
   "outputs": [],
   "source": [
    "# Filter column names using a `regex` instead of a `like`\n",
    "# find all the columns that end in the letter `e`: for end, use `$`\n",
    "\n",
    "e_ending_cols = df.filter(regex = 'e$')\n",
    "print(e_ending_cols.head())"
   ]
  },
  {
   "cell_type": "markdown",
   "id": "a8a2b001-2514-4b84-8fa9-c69add9a270f",
   "metadata": {},
   "source": [
    "RefexLearn:\n",
    "https://regexlearn.com/learn/regex101"
   ]
  },
  {
   "cell_type": "markdown",
   "id": "0df0e3dd-12d7-49ad-9bc9-a343fdabe176",
   "metadata": {},
   "source": [
    "## 4. Combining Selection and Filtering"
   ]
  },
  {
   "cell_type": "code",
   "execution_count": null,
   "id": "27959a2f-d056-4a42-9077-ef32ab0e2caa",
   "metadata": {
    "tags": []
   },
   "outputs": [],
   "source": [
    "# Get a lot of majors for students under 21:\n",
    "# use method chain to append a selecion to the results of a filter before assigning it to a new variable:\n",
    "\n",
    "young_majors = df[df['age'] < 21]['major']\n",
    "print(young_majors.head())\n",
    "type(young_majors)"
   ]
  },
  {
   "cell_type": "markdown",
   "id": "98c707b3-4c63-42a6-a728-622cf63d0856",
   "metadata": {},
   "source": [
    "## 5. Using `.isin()` for Multiple Values\n",
    "\n",
    "`.isin()` is useful for filtering rows that meet any of a list of criteria. For example, filtering by a subset of majors. `.isin()` only works on data frames, not series. \n",
    "\n",
    "Useful for filtering categorical data. "
   ]
  },
  {
   "cell_type": "code",
   "execution_count": null,
   "id": "5bd5976b-8e51-4255-a20d-e53e6041b3dc",
   "metadata": {
    "tags": []
   },
   "outputs": [],
   "source": [
    "stem_majors = df[df['major'].isin(['Engineering', 'Chemistry', 'Physics'])]\n",
    "print(stem_majors.head())"
   ]
  },
  {
   "cell_type": "markdown",
   "id": "a125d10a-0195-4e19-a740-faa249634716",
   "metadata": {},
   "source": [
    "## 6. Filtering with String Methods\n",
    "\n",
    "Pandass provides string methods that can be used to filter text data. \n"
   ]
  },
  {
   "cell_type": "code",
   "execution_count": null,
   "id": "67256c33-f451-4455-b57f-63a4b762517f",
   "metadata": {
    "tags": []
   },
   "outputs": [],
   "source": [
    "# Filter majors that contain the word, `Science`: (Note that filter is based on labels, not values)\n",
    "\n",
    "science_majors = df[ df['major'].str.contains('Science') ]\n",
    "print(science_majors.head())"
   ]
  },
  {
   "cell_type": "markdown",
   "id": "365a4ccb-455a-49cf-b30f-a9108166d878",
   "metadata": {},
   "source": [
    "## 7. Advanced Selection: .loc vs .iloc"
   ]
  },
  {
   "cell_type": "code",
   "execution_count": null,
   "id": "40de85d4-3438-44de-8838-46e7840b8fb3",
   "metadata": {},
   "outputs": [],
   "source": [
    "df['string'], df[['list', 'of', 'columns']], df[[True, False, True...]]"
   ]
  },
  {
   "cell_type": "markdown",
   "id": "12cd2f7f-41e6-40d1-b7c0-fd1f82d59365",
   "metadata": {},
   "source": [
    "## Conclusion"
   ]
  }
 ],
 "metadata": {
  "kernelspec": {
   "display_name": "Python 3.10.0",
   "language": "python",
   "name": "python3.10.0"
  },
  "language_info": {
   "codemirror_mode": {
    "name": "ipython",
    "version": 3
   },
   "file_extension": ".py",
   "mimetype": "text/x-python",
   "name": "python",
   "nbconvert_exporter": "python",
   "pygments_lexer": "ipython3",
   "version": "3.10.0"
  }
 },
 "nbformat": 4,
 "nbformat_minor": 5
}
