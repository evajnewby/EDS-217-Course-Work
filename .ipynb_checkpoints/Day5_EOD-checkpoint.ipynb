{
 "cells": [
  {
   "cell_type": "markdown",
   "id": "ba1d5420-dc66-4f1b-971a-3934f3c20a36",
   "metadata": {},
   "source": [
    "# Day 5 EOD \n",
    "\n",
    "https://eds-217-essential-python.github.io/course-materials/eod-practice/eod-day5.html\n",
    "\n",
    "9/9/24"
   ]
  },
  {
   "cell_type": "code",
   "execution_count": null,
   "id": "d0c4f59f-2d79-4f0a-9c58-76d50b75080c",
   "metadata": {
    "tags": []
   },
   "outputs": [],
   "source": [
    "import pandas as pd\n",
    "import matplotlib.pyplot as plt\n",
    "import seaborn as sns\n",
    "\n",
    "# Load the data\n",
    "url = \"https://github.com/TheEconomist/banana-index-data/releases/download/1.0/bananaindex.csv\"\n",
    "df = pd.read_csv(url)"
   ]
  },
  {
   "cell_type": "code",
   "execution_count": null,
   "id": "4ddc2589-1e5d-42be-879a-9e6658a90e47",
   "metadata": {
    "tags": []
   },
   "outputs": [],
   "source": [
    "# Display the first few rows:\n",
    "print(df.head())"
   ]
  },
  {
   "cell_type": "code",
   "execution_count": null,
   "id": "14d533bc-5a9d-43a8-a63c-706cf0e0e0c8",
   "metadata": {
    "tags": []
   },
   "outputs": [],
   "source": [
    "# Display the dataframe info:\n",
    "print(df.info())"
   ]
  },
  {
   "cell_type": "markdown",
   "id": "f4c1030c-06ec-42ca-8e53-af9834deaa12",
   "metadata": {},
   "source": [
    "# 1. Data Preparation"
   ]
  },
  {
   "cell_type": "code",
   "execution_count": null,
   "id": "436434ab-1a3c-4970-b5af-b8c39eeffc4d",
   "metadata": {
    "tags": []
   },
   "outputs": [],
   "source": [
    "# Set the index of the DataFrame to be the ‘entity’ column.\n",
    "\n",
    "df = pd.read_csv(url, index_col = 'entity')\n",
    "df.head()"
   ]
  },
  {
   "cell_type": "code",
   "execution_count": null,
   "id": "4e4e0ab9-92c6-4c53-87ad-0e9d3d28c680",
   "metadata": {
    "tags": []
   },
   "outputs": [],
   "source": [
    "# Remove the ‘year’, ‘Banana values’, ‘type’, ‘Unnamed: 16’, and ‘Chart?’ columns.\n",
    "\n",
    "df = df.drop(['year', 'Banana values', 'type', 'Unnamed: 16', 'Chart?'], axis = 'columns')\n"
   ]
  },
  {
   "cell_type": "code",
   "execution_count": null,
   "id": "a253db97-e8bf-4cb5-86c3-355fa6e6bd7f",
   "metadata": {
    "tags": []
   },
   "outputs": [],
   "source": [
    "# Display the first few rows of the modified DataFrame.\n",
    "df.head()"
   ]
  },
  {
   "cell_type": "markdown",
   "id": "2983e474-86d9-4ea6-95f8-2a23303f9d14",
   "metadata": {},
   "source": [
    "# Exploring Banana Scores"
   ]
  },
  {
   "cell_type": "code",
   "execution_count": null,
   "id": "26c1c60b-0cfb-42d4-b964-d6a61af736cd",
   "metadata": {
    "tags": []
   },
   "outputs": [],
   "source": [
    "# For each of the pre-computed banana score columns (kg, calories, and protein), show the 10 highest-scoring food products.\n",
    "\n",
    "print(df['Bananas index (kg)'].sort_values(ascending = False).head(10))\n",
    "\n",
    "print(df['Bananas index (1000 kcalories)'].sort_values(ascending = False).head(10))\n",
    "\n",
    "print(df['Bananas index (100g protein)'].sort_values(ascending = False).head(10))"
   ]
  },
  {
   "cell_type": "code",
   "execution_count": null,
   "id": "2270ca23-8c90-4078-8f95-5c85908ee68f",
   "metadata": {
    "tags": []
   },
   "outputs": [],
   "source": [
    "# Edit below so it gives the top 10 scores for any given column\n",
    "\n",
    "def return_top_ten(df, column):\n",
    "    \"Return the 10 largest values in the column\"\n",
    "    return df[column].sort_values(ascending = False).head(10)\n",
    "    "
   ]
  },
  {
   "cell_type": "code",
   "execution_count": null,
   "id": "9a2bcee8-e228-4f6e-a666-dcf97b05a239",
   "metadata": {
    "tags": []
   },
   "outputs": [],
   "source": [
    "# Use your function to display the results for each of the three Banana index columns.\n",
    "\n",
    "banana_cols = ['Bananas index (kg)',\n",
    "              'Bananas index (1000 kcalories)',\n",
    "              'Bananas index (100g protein)']\n",
    "\n",
    "for banana_cols in banana_cols:\n",
    "    top_10 =  return_top_ten(df, banana_cols)\n",
    "    print(f\" Top 10 values {banana_cols}\")\n",
    "    print(top_10)"
   ]
  },
  {
   "cell_type": "markdown",
   "id": "3633cd7b-a2bc-4aad-a6dc-458e686f1111",
   "metadata": {},
   "source": [
    "# Common High Scoring Foods"
   ]
  },
  {
   "cell_type": "code",
   "execution_count": null,
   "id": "6442038e-93f9-41a4-a6c7-60eff232660d",
   "metadata": {
    "tags": []
   },
   "outputs": [],
   "source": [
    "# Identify which foods, if any, appear in the top 10 for all three banana score lists (kg, calories, and protein).\n",
    "\n",
    "top_10_kg = set(return_top_ten(df, 'Bananas index (kg)').index)\n",
    "top_10_kcalories = set(return_top_ten(df, 'Bananas index (1000 kcalories)').index)\n",
    "top_10_protein = set(return_top_ten(df, 'Bananas index (100g protein)').index)\n",
    "\n",
    "common_foods = top_10_kg.intersection(top_10_kcalories, top_10_protein)\n",
    "print(common_foods)"
   ]
  },
  {
   "cell_type": "markdown",
   "id": "3792e78a-a5d8-4e73-974f-8a4ee041bb4b",
   "metadata": {},
   "source": [
    "# Land Use Analysis\n"
   ]
  },
  {
   "cell_type": "code",
   "execution_count": null,
   "id": "15e60ef3-461a-454c-bf42-6d6f528bd577",
   "metadata": {
    "tags": []
   },
   "outputs": [],
   "source": [
    "# Create a new column named ‘Bananas index (land use 1000 kcal)’, \n",
    "# calculating that food item’s use of land for every 1,000 kcal in comparison to a banana.\n",
    "\n",
    "bananas_land_use = df.loc['Bananas', 'land_use_1000kcal']\n",
    "print(bananas_land_use)"
   ]
  },
  {
   "cell_type": "code",
   "execution_count": null,
   "id": "28934286-d03a-49e2-bc62-22c17399fb3c",
   "metadata": {
    "tags": []
   },
   "outputs": [],
   "source": [
    "df[\"Bananas index (land use 1000 kcal)\"] = df['land_use_1000kcal'] / bananas_land_use\n",
    "df.head()\n",
    "df.describe()"
   ]
  },
  {
   "cell_type": "code",
   "execution_count": null,
   "id": "b2ce005e-1e24-4698-a98f-fb760cc8ca15",
   "metadata": {
    "tags": []
   },
   "outputs": [],
   "source": [
    "# Display the 10 foods with the highest land use score.\n",
    "print(return_top_ten(df, 'Bananas index (land use 1000 kcal)'))"
   ]
  },
  {
   "cell_type": "code",
   "execution_count": null,
   "id": "7c717303-1fff-4b25-97ed-0db854eb5fdf",
   "metadata": {
    "tags": []
   },
   "outputs": [],
   "source": [
    "# Compare this list with the previous top 10 lists. Are there any common foods?\n",
    "\n",
    "list_sets = [set(return_top_ten(df, column).index) for column in df.filter(like='Bana')]\n",
    "common_food = set.intersection(*list_sets)\n",
    "print(\"\\nFoods in top 10 for all four metrics:\")\n",
    "print(common_food)"
   ]
  },
  {
   "cell_type": "markdown",
   "id": "b47b9ce8-bbab-43f2-a5aa-e98294807549",
   "metadata": {},
   "source": [
    "# Cheese Analysis"
   ]
  },
  {
   "cell_type": "code",
   "execution_count": null,
   "id": "dc14cad5-025e-4fb4-a073-b46138ef3416",
   "metadata": {
    "tags": []
   },
   "outputs": [],
   "source": [
    "# Identify the type of cheese with the highest banana score per 1,000 kcal. \n",
    "# How does it compare to other cheeses in the dataset?\n",
    "\n",
    "cheese_df = df.filter(like = \"heese\", axis = 'rows')\n",
    "\n",
    "print(cheese_df['Bananas index (land use 1000 kcal)'].sort_values(ascending = False).head(1))"
   ]
  }
 ],
 "metadata": {
  "kernelspec": {
   "display_name": "Python 3.10.0",
   "language": "python",
   "name": "python3.10.0"
  },
  "language_info": {
   "codemirror_mode": {
    "name": "ipython",
    "version": 3
   },
   "file_extension": ".py",
   "mimetype": "text/x-python",
   "name": "python",
   "nbconvert_exporter": "python",
   "pygments_lexer": "ipython3",
   "version": "3.10.0"
  }
 },
 "nbformat": 4,
 "nbformat_minor": 5
}
