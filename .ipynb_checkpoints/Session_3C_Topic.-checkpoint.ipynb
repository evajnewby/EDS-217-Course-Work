{
 "cells": [
  {
   "cell_type": "markdown",
   "id": "f4abc7cb-9fc5-463a-980c-845a917cb9b1",
   "metadata": {},
   "source": [
    "# Day 3: Session C - Arrays and Series\n",
    "\n",
    "https://eds-217-essential-python.github.io/course-materials/interactive-sessions/3c_arrays_and_series.html\n",
    "\n",
    "Date: 9/5/24"
   ]
  },
  {
   "cell_type": "code",
   "execution_count": null,
   "id": "d7875a36-1a73-4d21-9ecd-a61c1c9fff6d",
   "metadata": {
    "tags": []
   },
   "outputs": [],
   "source": [
    "import numpy as np\n",
    "import pandas as pd"
   ]
  },
  {
   "cell_type": "code",
   "execution_count": null,
   "id": "b28ece3a-1cfe-4e7c-a751-f61ac960b643",
   "metadata": {
    "tags": []
   },
   "outputs": [],
   "source": [
    "# Create a 1D array\n",
    "my_array = np.array([1, 2, 3, 4, 5])\n",
    "print(\"1D array:\", arr_1d)"
   ]
  },
  {
   "cell_type": "code",
   "execution_count": null,
   "id": "c6230659-7d95-4b48-8251-9513bf53246c",
   "metadata": {},
   "outputs": [],
   "source": []
  },
  {
   "cell_type": "code",
   "execution_count": null,
   "id": "8af807cb-137e-40f3-a5b4-2b010feec15d",
   "metadata": {
    "tags": []
   },
   "outputs": [],
   "source": [
    "# Create a 2D array\n",
    "my_array = np.array([[1, 2, 3], [4, 5, 6]])\n",
    "print(\"2D array:\\n\", arr_2d)\n",
    "print(arr_2d)"
   ]
  },
  {
   "cell_type": "markdown",
   "id": "e7cc17a8-7447-49b4-8bcf-6e5d44e8ec9b",
   "metadata": {
    "tags": []
   },
   "source": [
    "## Basic Array Operations\n",
    "\n",
    "`min`, `max`, `mean`"
   ]
  },
  {
   "cell_type": "code",
   "execution_count": null,
   "id": "54c86cd7-6b19-4693-a0ba-da2d31a668cb",
   "metadata": {
    "tags": []
   },
   "outputs": [],
   "source": [
    "# Global min, max are still around...\n",
    "min(['3', '4', '5'])\n",
    "\n",
    "# but np uses it's own methods for basic operation\n",
    "print(f\"np.min of {my_array}:{np.min(my_array)}\")\n",
    "\n",
    "# Get the maximum:\n",
    "print(f\"np.max of {my_array}:{np.max(my_array)}\")\n",
    "\n",
    "# Get mean:\n",
    "print(f\"np.mean of {my_array}:{np.mean(my_array)}\")\n",
    "\n",
    "# Get stdev\n",
    "print(f\"np.std of {my_array}:{np.std(my_array)}\")\n",
    "\n",
    "# Array transformations:\n",
    "# Multiple every element in an array by 2:\n",
    "my_array * 2\n",
    "\n",
    "# add 2 to every element of an array:\n",
    "print(my_array + 2)"
   ]
  },
  {
   "cell_type": "markdown",
   "id": "263f84c8-734f-412e-9a2f-e54eb67f3439",
   "metadata": {},
   "source": [
    "## Using a pandas series\n",
    "\n",
    "A series is a 1-d labelled array\n",
    "\n",
    "we create them using the pd.Series() command"
   ]
  },
  {
   "cell_type": "code",
   "execution_count": null,
   "id": "0e97de83-1916-48f9-8a83-a4b922f362e4",
   "metadata": {
    "tags": []
   },
   "outputs": [],
   "source": [
    "# Create a Series from a list\n",
    "s1 = pd.Series([1, 2, 3, 4, 5])\n",
    "print[\"Series from list:\\n\", s1]\n",
    "\n",
    "# Create a Series with custom index\n",
    "s2 = pd.Series([10, 20, 30, 40, 50], index=['a', 'b', 'c', 'd', 'e'])\n",
    "print[\"\\nSeries with custom index:\\n\", s2]"
   ]
  },
  {
   "cell_type": "markdown",
   "id": "a352fc1f-8ad4-4bb6-bc2d-f71726200ae5",
   "metadata": {},
   "source": [
    "## Basic Series operations\n",
    "\n",
    "### Accessing and slicing"
   ]
  },
  {
   "cell_type": "code",
   "execution_count": null,
   "id": "3556b383-5b58-4d4f-b131-e070452b75d3",
   "metadata": {
    "tags": []
   },
   "outputs": [],
   "source": [
    "# Accessing elements\n",
    "print(\"Element at index 'c':\", s2['c'])\n",
    "print(\"First three elements:\\n\", s2[:3])\n",
    "\n",
    "# Series arithmetic\n",
    "print(\"\\nSeries + 5:\\n\", s2 + 5)\n",
    "\n",
    "# Series statistics\n",
    "print(\"\\nMean:\", s2.mean())\n",
    "print(\"Median:\", s2.median())"
   ]
  }
 ],
 "metadata": {
  "kernelspec": {
   "display_name": "Python 3.10.0",
   "language": "python",
   "name": "python3.10.0"
  },
  "language_info": {
   "codemirror_mode": {
    "name": "ipython",
    "version": 3
   },
   "file_extension": ".py",
   "mimetype": "text/x-python",
   "name": "python",
   "nbconvert_exporter": "python",
   "pygments_lexer": "ipython3",
   "version": "3.10.0"
  }
 },
 "nbformat": 4,
 "nbformat_minor": 5
}
