{
 "cells": [
  {
   "cell_type": "code",
   "execution_count": null,
   "id": "04281811-63fd-4d07-86c6-88a236314f87",
   "metadata": {
    "tags": []
   },
   "outputs": [],
   "source": [
    "import pandas as pd\n",
    "import numpy as np\n",
    "\n",
    "# Load the dataset\n",
    "url = \"https://raw.githubusercontent.com/rfordatascience/tidytuesday/master/data/2019/2019-09-17/national_parks.csv\"\n",
    "parks_df = pd.read_csv(url)"
   ]
  },
  {
   "cell_type": "code",
   "execution_count": null,
   "id": "c41b3221-ad42-4da9-b95f-2b7e2244202e",
   "metadata": {},
   "outputs": [],
   "source": []
  },
  {
   "cell_type": "markdown",
   "id": "4125a434-ad70-405d-ada5-c65cfe5e5683",
   "metadata": {},
   "source": [
    "## Task 1: Data Exploration and Cleaning"
   ]
  },
  {
   "cell_type": "code",
   "execution_count": null,
   "id": "465d4fa9-1875-4c20-ac7c-2a13054ea88e",
   "metadata": {
    "tags": []
   },
   "outputs": [],
   "source": [
    "print(parks_df.shape)"
   ]
  },
  {
   "cell_type": "code",
   "execution_count": null,
   "id": "bb8b3831-36e7-45e5-9871-92533c6141a5",
   "metadata": {
    "tags": []
   },
   "outputs": [],
   "source": [
    "print(parks_df.columns)"
   ]
  },
  {
   "cell_type": "code",
   "execution_count": null,
   "id": "3c243a16-f108-46b6-b3a6-8c1c5345fb03",
   "metadata": {
    "tags": []
   },
   "outputs": [],
   "source": [
    "print(parks_df.dtypes)"
   ]
  },
  {
   "cell_type": "code",
   "execution_count": null,
   "id": "c0b70531-020c-4d6c-8999-5b1ccbd15e2c",
   "metadata": {
    "tags": []
   },
   "outputs": [],
   "source": [
    "parks_df.isnull().sum()"
   ]
  },
  {
   "cell_type": "code",
   "execution_count": null,
   "id": "aead1758-84ac-4942-afe5-3bcc5ca49f59",
   "metadata": {
    "tags": []
   },
   "outputs": [],
   "source": [
    "help(parks_df.drop)"
   ]
  },
  {
   "cell_type": "code",
   "execution_count": null,
   "id": "966c9672-2e4c-41dc-a531-3d533c426d03",
   "metadata": {
    "tags": []
   },
   "outputs": [],
   "source": [
    "parks_df = parks_df[parks_df['year'] != 'Total']\n",
    "print(parks_df)"
   ]
  },
  {
   "cell_type": "code",
   "execution_count": null,
   "id": "6ea12bc0-ce10-4f32-8438-d5157bf09712",
   "metadata": {
    "tags": []
   },
   "outputs": [],
   "source": [
    "# Convert year column to numeric type\n",
    "\n",
    "parks_df['year'] = pd.to_numeric(parks_df['year'])\n",
    "parks_df['year'].dtype\n",
    "                       "
   ]
  },
  {
   "cell_type": "markdown",
   "id": "b03f5872-efdc-4c1f-8c07-c936f4c95797",
   "metadata": {},
   "source": [
    "## Task 2: Basic Filtering and Analysis\n",
    "\n",
    "Create a new DataFrame containing only data for the years 2000-2015 and only data for National Parks (unit_type is National Park)\n",
    "\n",
    "Find the total number of visitors across all National Parks for each year from 2000-2015.\n",
    "\n",
    "Calculate the average yearly visitors for each National Park during the 2000-2015 period.\n",
    "\n",
    "Identify the top 5 most visited National Parks (based on total visitors) during the 2000-2015 period."
   ]
  },
  {
   "cell_type": "code",
   "execution_count": null,
   "id": "1973e679-7bf7-4110-ba7c-493b314b21ad",
   "metadata": {
    "tags": []
   },
   "outputs": [],
   "source": [
    "nat_parks = parks_df[\n",
    "(parks_df['year'] >= 2000) &\n",
    "(parks_df['year'] <= 2015) &\n",
    "(parks_df['unit_type'] == 'National Park')]\n",
    "\n",
    "print(nat_parks)"
   ]
  },
  {
   "cell_type": "code",
   "execution_count": null,
   "id": "7c2a7246-8e97-4f9d-98cd-ff8ac6fcd72c",
   "metadata": {
    "tags": []
   },
   "outputs": [],
   "source": [
    "total_visitors = nat_parks['visitors'].sum()\n",
    "print(total_visitors)"
   ]
  },
  {
   "cell_type": "code",
   "execution_count": null,
   "id": "76af040a-ff7e-4086-9e43-f76281ce7e3e",
   "metadata": {
    "tags": []
   },
   "outputs": [],
   "source": [
    "park_group = nat_parks.groupby('parkname').sum('year')\n"
   ]
  }
 ],
 "metadata": {
  "kernelspec": {
   "display_name": "Python 3.10.0",
   "language": "python",
   "name": "python3.10.0"
  },
  "language_info": {
   "codemirror_mode": {
    "name": "ipython",
    "version": 3
   },
   "file_extension": ".py",
   "mimetype": "text/x-python",
   "name": "python",
   "nbconvert_exporter": "python",
   "pygments_lexer": "ipython3",
   "version": "3.10.0"
  }
 },
 "nbformat": 4,
 "nbformat_minor": 5
}
