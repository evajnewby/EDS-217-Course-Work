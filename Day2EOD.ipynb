{
 "cells": [
  {
   "cell_type": "code",
   "execution_count": null,
   "id": "65e05dbb-ae1e-4e7a-8dae-c4840be5fdbc",
   "metadata": {
    "tags": []
   },
   "outputs": [],
   "source": [
    "# We won't use the random library until the end of this exercise, \n",
    "# but it's always good to put imported libraries at the top of your notebook.\n",
    "import random "
   ]
  },
  {
   "cell_type": "code",
   "execution_count": null,
   "id": "e7d01db9-391f-454b-ac2d-acf2f25cc327",
   "metadata": {
    "tags": []
   },
   "outputs": [],
   "source": [
    "classmates = [\"Eva\", \"Ryan\", \"Yos\", \"Madison\"]\n",
    "print(classmates)"
   ]
  },
  {
   "cell_type": "code",
   "execution_count": null,
   "id": "b36c93cf-0ad7-4fc1-bb95-efbc6e35e738",
   "metadata": {
    "tags": []
   },
   "outputs": [],
   "source": [
    "classmates_info = {\n",
    "    \"Eva\" : {\"favorite color\":\"blue\",\n",
    "           \"pets\":\"2\",\n",
    "           \"preferred study snack\": \"PB pretzels\"},\n",
    "    \"Ryan\" : {\"favorite color\":\"green\",\n",
    "           \"pets\":\"0\",\n",
    "           \"preferred study snack\": \"Gummy bears\"},\n",
    "    \"Yos\" : {\"favorite color\":\"black\",\n",
    "           \"pets\":\"4\",\n",
    "           \"preferred study snack\": \"cheese\"},\n",
    "    \"Madison\" : {\"favorite color\":\"seafoam green\",\n",
    "           \"pets\":\"4\",\n",
    "           \"preferred study snack\": \"chips\"}\n",
    "}\n",
    "print(classmates_info)"
   ]
  },
  {
   "cell_type": "code",
   "execution_count": null,
   "id": "bc5b5b69-9e17-4327-8ed7-d89b9b535475",
   "metadata": {
    "tags": []
   },
   "outputs": [],
   "source": [
    "# Adding a new entry\n",
    "classmates_info[\"Michelle\"] = {\"favorite color\":\"purple\",\n",
    "           \"pets\":\"1\",\n",
    "           \"preferred study snack\": \"popsicles\"}\n",
    "print(classmates_info)"
   ]
  },
  {
   "cell_type": "code",
   "execution_count": null,
   "id": "0a63267d-ad0e-4904-a2a4-aa88da9312e7",
   "metadata": {
    "tags": []
   },
   "outputs": [],
   "source": [
    "# Removing Ryan\n",
    "del classmates_info[\"Ryan\"]\n",
    "print(classmates_info)"
   ]
  },
  {
   "cell_type": "code",
   "execution_count": null,
   "id": "41ef76c7-44fa-47e7-8848-d16bd5a3a445",
   "metadata": {
    "tags": []
   },
   "outputs": [],
   "source": [
    "classmates.sort()\n",
    "print(classmates)"
   ]
  },
  {
   "cell_type": "code",
   "execution_count": null,
   "id": "5f9fbe74-2863-4871-b82b-631aa128eb18",
   "metadata": {
    "tags": []
   },
   "outputs": [],
   "source": [
    "print(classmates_info[\"Yos\"])"
   ]
  },
  {
   "cell_type": "code",
   "execution_count": null,
   "id": "a821e543-a02f-454d-9e4d-5a207b8eb09c",
   "metadata": {
    "tags": []
   },
   "outputs": [],
   "source": [
    "for classmates in classmates_info:\n",
    "    classmates_info[classmates][\"favorite_study_spot\"] = \"Bren\"\n",
    "print(classmates_info)"
   ]
  },
  {
   "cell_type": "code",
   "execution_count": null,
   "id": "5f30e4c1-5525-47b9-b0d9-9cc50148ee6b",
   "metadata": {
    "tags": []
   },
   "outputs": [],
   "source": [
    "classmates_info[\"Eva\"][\"pets\"] = 20\n",
    "pets = [info[\"pets\"] for info in classmates_info.values()]\n",
    "print(pets)"
   ]
  },
  {
   "cell_type": "code",
   "execution_count": null,
   "id": "505f68c9-5a3d-4f51-bec2-3b4acdce6940",
   "metadata": {
    "tags": []
   },
   "outputs": [],
   "source": [
    "favorite_colors = [info[\"favorite color\"] for info in classmates_info.values()]\n",
    "print(favorite_colors)"
   ]
  },
  {
   "cell_type": "code",
   "execution_count": null,
   "id": "5bd7701d-e026-42ef-a99d-c77937e8d56d",
   "metadata": {
    "tags": []
   },
   "outputs": [],
   "source": [
    "def assign_random_snacks(classmates_info):\n",
    "    names = list(classmates_info.keys())\n",
    "    [sharer, receiver] = random.sample(names, 2)\n",
    "    print(f\"{sharer} will share {classmates_info[sharer]['preferred study snack']} with {receiver}\")\n",
    "\n",
    "# Test the function\n",
    "assign_random_snacks(classmates_info)"
   ]
  }
 ],
 "metadata": {
  "kernelspec": {
   "display_name": "Python 3.10.0",
   "language": "python",
   "name": "python3.10.0"
  },
  "language_info": {
   "codemirror_mode": {
    "name": "ipython",
    "version": 3
   },
   "file_extension": ".py",
   "mimetype": "text/x-python",
   "name": "python",
   "nbconvert_exporter": "python",
   "pygments_lexer": "ipython3",
   "version": "3.10.0"
  }
 },
 "nbformat": 4,
 "nbformat_minor": 5
}
