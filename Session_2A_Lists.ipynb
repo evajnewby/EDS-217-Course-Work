{
 "cells": [
  {
   "cell_type": "markdown",
   "id": "b83fc4d3-c9e4-4caf-b8f0-fb817e979e63",
   "metadata": {},
   "source": [
    "# Day 2: Session A - Lists\n",
    "\n",
    "[Link to session webpage](https://eds-217-essential-python.github.io/course-materials/interactive-sessions/2a_lists.html)\n",
    "\n",
    "Date: 09/04/2024"
   ]
  },
  {
   "cell_type": "code",
   "execution_count": null,
   "id": "5829dac3-1a54-47ee-a3b4-f9f2a9c13c48",
   "metadata": {
    "tags": []
   },
   "outputs": [],
   "source": [
    "# Define list variables\n",
    "num_list = [4, 23, 654, 2, 0, -12, 4391]\n",
    "str_list = ['energy', 'water', 'carbon']"
   ]
  },
  {
   "cell_type": "code",
   "execution_count": null,
   "id": "8431c43b-a73a-48c4-8211-5165d96cf6f1",
   "metadata": {
    "tags": []
   },
   "outputs": [],
   "source": [
    "len(num_list)"
   ]
  },
  {
   "cell_type": "code",
   "execution_count": null,
   "id": "1a9f01b4-9f4d-4323-a1d5-8af93abb00d0",
   "metadata": {
    "tags": []
   },
   "outputs": [],
   "source": [
    "max(str_list)"
   ]
  },
  {
   "cell_type": "markdown",
   "id": "d03a1f2a-650b-41ff-b6db-a01d7aa6435c",
   "metadata": {},
   "source": [
    "## Indexing\n",
    "\n",
    "python is Zero Indexed!"
   ]
  },
  {
   "cell_type": "code",
   "execution_count": null,
   "id": "c6fb8f06-766e-4911-9cb6-0d361d750db3",
   "metadata": {
    "tags": []
   },
   "outputs": [],
   "source": [
    "#The second element of the list is indes position 1\n",
    "print(num_list[1])"
   ]
  },
  {
   "cell_type": "code",
   "execution_count": null,
   "id": "6367b1e9-5365-4f26-b2fe-a5c49c6bebfb",
   "metadata": {
    "tags": []
   },
   "outputs": [],
   "source": [
    "# The last element of the list can be found using -1\n",
    "print(num_list[-1])"
   ]
  },
  {
   "cell_type": "code",
   "execution_count": null,
   "id": "f3b599a2-1ebb-46fc-8194-a2a3c62afb1a",
   "metadata": {
    "tags": []
   },
   "outputs": [],
   "source": [
    "#Find the second element in two different ways for str_list\n",
    "print(str_list[1])\n",
    "print(str_list[-2])"
   ]
  },
  {
   "cell_type": "markdown",
   "id": "177e2b2b-2d67-47fb-b9aa-d2244d39ed46",
   "metadata": {},
   "source": [
    "## Slicing\n",
    "\n",
    "Selecting sections of a code is called 'slicing'"
   ]
  },
  {
   "cell_type": "code",
   "execution_count": null,
   "id": "a5f265c7-afc8-481f-9592-0a5b4baa1fc1",
   "metadata": {
    "tags": []
   },
   "outputs": [],
   "source": [
    "num_list[2:4]\n",
    "print(f\"slice from [2:4]:{num_list[2:4]}\")"
   ]
  },
  {
   "cell_type": "code",
   "execution_count": null,
   "id": "77aecb29-0cbc-4323-8985-b66682e9bd89",
   "metadata": {
    "tags": []
   },
   "outputs": [],
   "source": [
    "# Everything after a location (including that location):\n",
    "print(num_list[3:])"
   ]
  },
  {
   "cell_type": "code",
   "execution_count": null,
   "id": "f37ca386-d0f0-4185-800f-f74b6f42eb98",
   "metadata": {
    "tags": []
   },
   "outputs": [],
   "source": [
    "num_list = [4, 23, 654, 2, 0, -12, 4391]"
   ]
  },
  {
   "cell_type": "code",
   "execution_count": null,
   "id": "a696ebab-398f-4fa7-a03a-8c56828e612f",
   "metadata": {
    "tags": []
   },
   "outputs": [],
   "source": [
    "print(f\"num_list[2:6]:{num_list[2:6]}\")\n",
    "print(num_list[2:6])"
   ]
  },
  {
   "cell_type": "code",
   "execution_count": null,
   "id": "5e1fbf45-1ab7-44f2-ab48-16e82368367d",
   "metadata": {
    "tags": []
   },
   "outputs": [],
   "source": [
    "print(f\"num_list[0:4]:{num_list[0:4]}\")\n",
    "print(num_list[0:4])"
   ]
  },
  {
   "cell_type": "code",
   "execution_count": null,
   "id": "ffafab0b-c874-43e5-afd4-e6483e723aef",
   "metadata": {
    "tags": []
   },
   "outputs": [],
   "source": [
    "print(num_list[:4])"
   ]
  },
  {
   "cell_type": "code",
   "execution_count": null,
   "id": "ca839f90-78fd-4b28-a515-792ab46b827b",
   "metadata": {
    "tags": []
   },
   "outputs": [],
   "source": [
    "print(f\"num_list[-6:-1]:{num_list[-6:-1]}\")"
   ]
  },
  {
   "cell_type": "code",
   "execution_count": null,
   "id": "aef16032-85ea-4a8a-9019-6134a33c2a5a",
   "metadata": {
    "tags": []
   },
   "outputs": [],
   "source": [
    "# Let's go through num_list from start to end in steps of 2\n",
    "print(num_list[0::2])\n",
    "\n",
    "# from end to beginning in steps of 1\n",
    "print(num_list[-1:0:-1])"
   ]
  },
  {
   "cell_type": "markdown",
   "id": "e66cf972-46d5-4392-bb45-fbd25cc33c64",
   "metadata": {},
   "source": [
    "### String indices\n",
    "\n",
    "similar to lists"
   ]
  },
  {
   "cell_type": "code",
   "execution_count": null,
   "id": "a3eb8bc5-3752-40b9-8646-bcc1bb25e75d",
   "metadata": {
    "tags": []
   },
   "outputs": [],
   "source": [
    "word_str = 'antidisestablishmentarianism'"
   ]
  },
  {
   "cell_type": "code",
   "execution_count": null,
   "id": "81c8cfd7-1d5c-42e6-ae4f-0a8902a67af7",
   "metadata": {
    "tags": []
   },
   "outputs": [],
   "source": [
    "word_str[14]"
   ]
  },
  {
   "cell_type": "code",
   "execution_count": null,
   "id": "48b938c3-9224-41b3-be06-b125a9e16f74",
   "metadata": {
    "tags": []
   },
   "outputs": [],
   "source": [
    "# This is select every 3rd letter\n",
    "\n",
    "word_str[::3]"
   ]
  },
  {
   "cell_type": "code",
   "execution_count": null,
   "id": "8d4b5fb9-251d-41b2-955f-fd7f6a803417",
   "metadata": {
    "tags": []
   },
   "outputs": [],
   "source": [
    "colors = ['red', 'blue', 'green', 'black', 'white', 'pink']"
   ]
  },
  {
   "cell_type": "code",
   "execution_count": null,
   "id": "6c48ff36-ab8e-466a-ba3f-bb7ce86dc698",
   "metadata": {
    "tags": []
   },
   "outputs": [],
   "source": [
    "# Add element x at position i to a list using insert(i, x)\n",
    "colors.insert(3, 'purple')\n",
    "print(colors)"
   ]
  },
  {
   "cell_type": "code",
   "execution_count": null,
   "id": "ec91beff-b8cb-4e6c-8c5e-36e428a2040f",
   "metadata": {
    "tags": []
   },
   "outputs": [],
   "source": [
    "# remove from the end of the list using pop\n",
    "colors = ['red', 'blue', 'green', 'black', 'white', 'pink']\n",
    "colors.pop() # -1 is the default argument to pop. If we want to remove blue, we would need to put 1 in\n",
    "print(colors)"
   ]
  },
  {
   "cell_type": "code",
   "execution_count": null,
   "id": "4b730e00-fd4d-476f-a15d-64718d5b8d06",
   "metadata": {
    "tags": []
   },
   "outputs": [],
   "source": [
    "# Use remove to get rid of a specific value(s)\n",
    "colors = ['red', 'blue', 'green', 'black', 'white', 'pink']\n",
    "colors.remove('red')\n",
    "print(colors)"
   ]
  },
  {
   "cell_type": "code",
   "execution_count": null,
   "id": "8fa7d6ae-80ee-496d-a398-eeb4bea7aac8",
   "metadata": {
    "tags": []
   },
   "outputs": [],
   "source": [
    "# Use del for removing slices\n",
    "colors = ['red', 'blue', 'green', 'black', 'white', 'pink']\n",
    "del colors[2:]\n",
    "print(colors)"
   ]
  },
  {
   "cell_type": "markdown",
   "id": "d5a926ff-b01d-4662-8531-92323b6f48b9",
   "metadata": {},
   "source": [
    "Apply what we've learned:"
   ]
  },
  {
   "cell_type": "code",
   "execution_count": null,
   "id": "69338d85-894f-4f4f-bd7e-69c844aa5778",
   "metadata": {
    "tags": []
   },
   "outputs": [],
   "source": [
    "colors = ['red', 'blue', 'green', 'purple', 'black', 'white', 'pink']"
   ]
  },
  {
   "cell_type": "code",
   "execution_count": null,
   "id": "a1fd178f-825f-489d-9049-9cb2a783dcc2",
   "metadata": {
    "tags": []
   },
   "outputs": [],
   "source": [
    "# Remove pink and purple from colors, use del for one and list.remove for the other\n",
    "del colors[-1]\n",
    "print(colors)\n",
    "\n",
    "colors.remove('purple')\n",
    "print(colors)"
   ]
  },
  {
   "cell_type": "code",
   "execution_count": null,
   "id": "0b5811fa-8288-47d5-9850-02b850a09e7a",
   "metadata": {
    "tags": []
   },
   "outputs": [],
   "source": [
    "help(colors)"
   ]
  },
  {
   "cell_type": "markdown",
   "id": "a2b30c59-3fc2-48ad-89b6-23225776df71",
   "metadata": {},
   "source": [
    "### Sorting Lists"
   ]
  },
  {
   "cell_type": "code",
   "execution_count": null,
   "id": "ea63bf45-61bf-4aeb-a4c9-acff5e97e52f",
   "metadata": {
    "tags": []
   },
   "outputs": [],
   "source": [
    "rand_list = [5.1 , 3.42 , 3.333 , 100.4 , 0.5 , 26.0 , 7.44 , 5.8 , 39.0]\n",
    "rand_list.sort()\n",
    "print(rand_list)"
   ]
  },
  {
   "cell_type": "code",
   "execution_count": null,
   "id": "55875a2f-f118-4525-87fc-5a2bad760532",
   "metadata": {},
   "outputs": [],
   "source": [
    "# Use the reverse argument to get a list from largest to smallest:\n",
    "rand_list = [5.1 , 3.42 , 3.333 , 100.4 , 0.5 , 26.0 , 7.44 , 5.8 , 39.0]\n",
    "rand_list.sort(reverse=True)\n",
    "print(rand_list)"
   ]
  },
  {
   "cell_type": "code",
   "execution_count": null,
   "id": "2729fe43-3272-45bf-a447-2325fb55a667",
   "metadata": {},
   "outputs": [],
   "source": [
    "# To get a new list that is sorted, we use the sorted function. \n"
   ]
  },
  {
   "cell_type": "code",
   "execution_count": null,
   "id": "0bbcf6e8-a3b9-43e7-8f78-b6514defbb89",
   "metadata": {
    "tags": []
   },
   "outputs": [],
   "source": [
    "rand_list = [5.1 , 3.42 , 3.333 , 100.4 , 0.5 , 26.0 , 7.44 , 5.8 , 39.0]\n",
    "new_list = sorted(rand_list, reverse = True)\n",
    "print(f\"rand_list:{rand_list}\")\n",
    "print(new_list)"
   ]
  },
  {
   "cell_type": "code",
   "execution_count": null,
   "id": "d4fad38a-07d9-423e-b54f-8f297254c798",
   "metadata": {
    "tags": []
   },
   "outputs": [],
   "source": [
    "# Use copy to avoid creating views when making naked assignments\n",
    "\n",
    "rand_list = [5.1 , 3.42 , 3.333 , 100.4 , 0.5 , 26.0 , 7.44 , 5.8 , 39.0]\n",
    "new_list = rand_list\n",
    "new_list.sort()\n",
    "print(new_list)"
   ]
  },
  {
   "cell_type": "markdown",
   "id": "37d4b573-eeb4-4335-8417-dbf7c9e8a3ec",
   "metadata": {},
   "source": [
    "## Basic operators and lists\n",
    "`+` `*`\n",
    "\n",
    "it's easy!"
   ]
  },
  {
   "cell_type": "code",
   "execution_count": null,
   "id": "7e349b75-ba5b-4f77-bbac-18a7a7eadbf0",
   "metadata": {
    "tags": []
   },
   "outputs": [],
   "source": [
    "rainbow  = ['red', 'orange', 'yellow', 'green', 'blue', 'indigo', 'violet']\n",
    "shades = ['coral', 'chartreuse', 'cyan', 'navy']\n",
    "print( rainbow + shades )"
   ]
  },
  {
   "cell_type": "code",
   "execution_count": null,
   "id": "e8b63e25-2d9f-4449-8ad8-61ae971e7c16",
   "metadata": {
    "tags": []
   },
   "outputs": [],
   "source": [
    "#list multiplication makes 2 lists\n",
    "\n",
    "print(shades*2)"
   ]
  },
  {
   "cell_type": "markdown",
   "id": "a5061a09-ac1c-40bf-a0d1-f5fbf871b082",
   "metadata": {},
   "source": [
    "## Sequential Liss\n",
    "`range()` is a built-in function to make sequential lists"
   ]
  },
  {
   "cell_type": "code",
   "execution_count": null,
   "id": "3e39fde2-a100-481a-b320-73de25b92bb9",
   "metadata": {
    "tags": []
   },
   "outputs": [],
   "source": [
    "a = list(range(4))\n",
    "print(a)"
   ]
  },
  {
   "cell_type": "code",
   "execution_count": null,
   "id": "49ee7f3d-86a2-4d6b-b88b-e16802c5fb76",
   "metadata": {
    "tags": []
   },
   "outputs": [],
   "source": [
    "print(list(range(1,11,1)))"
   ]
  }
 ],
 "metadata": {
  "kernelspec": {
   "display_name": "Python 3.10.0",
   "language": "python",
   "name": "python3.10.0"
  },
  "language_info": {
   "codemirror_mode": {
    "name": "ipython",
    "version": 3
   },
   "file_extension": ".py",
   "mimetype": "text/x-python",
   "name": "python",
   "nbconvert_exporter": "python",
   "pygments_lexer": "ipython3",
   "version": "3.10.0"
  }
 },
 "nbformat": 4,
 "nbformat_minor": 5
}
