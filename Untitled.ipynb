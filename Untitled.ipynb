{
 "cells": [
  {
   "cell_type": "code",
   "execution_count": null,
   "id": "fdb3aeaf-c928-4467-be8f-9e5f965cbd84",
   "metadata": {
    "tags": []
   },
   "outputs": [],
   "source": [
    "# Defining a function is simple:\n",
    "\n",
    "def my_function(x):\n",
    "    # square x and return it.\n",
    "    return x*x\n",
    "    #still function code. "
   ]
  },
  {
   "cell_type": "code",
   "execution_count": null,
   "id": "200ed56a-3dd4-4495-9c0d-d55fb84c23d7",
   "metadata": {
    "tags": []
   },
   "outputs": [],
   "source": [
    "my_function(10)"
   ]
  },
  {
   "cell_type": "code",
   "execution_count": null,
   "id": "21443bb0-1b10-4cb2-bfc8-08ea61446a0c",
   "metadata": {},
   "outputs": [],
   "source": [
    "x_sq = x*x\n",
    "y_sq = y*y\n",
    "z_sq = z*z\n",
    "\n",
    "#should be thinking about making a function when you are repeating things more than 3 times. "
   ]
  }
 ],
 "metadata": {
  "kernelspec": {
   "display_name": "Python 3.10.0",
   "language": "python",
   "name": "python3.10.0"
  },
  "language_info": {
   "codemirror_mode": {
    "name": "ipython",
    "version": 3
   },
   "file_extension": ".py",
   "mimetype": "text/x-python",
   "name": "python",
   "nbconvert_exporter": "python",
   "pygments_lexer": "ipython3",
   "version": "3.10.0"
  }
 },
 "nbformat": 4,
 "nbformat_minor": 5
}
