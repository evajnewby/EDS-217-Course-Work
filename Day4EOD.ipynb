{
 "cells": [
  {
   "cell_type": "code",
   "execution_count": null,
   "id": "38e2ca30-cbdb-4fd9-9477-c02ab0878b58",
   "metadata": {
    "tags": []
   },
   "outputs": [],
   "source": [
    "import pandas as pd\n",
    "import numpy as np"
   ]
  },
  {
   "cell_type": "code",
   "execution_count": null,
   "id": "5d7101d1-e714-44b0-bc46-0d64ad1918e8",
   "metadata": {
    "tags": []
   },
   "outputs": [],
   "source": [
    "url = 'https://ucsb.box.com/shared/static/dnnu59jsnkymup6o8aaovdywrtxiy3a9.csv'\n",
    "microplastics_df = pd.read_csv(url)"
   ]
  },
  {
   "cell_type": "code",
   "execution_count": null,
   "id": "a774b7c6-5f7e-4726-bdac-dcaf85157422",
   "metadata": {
    "tags": []
   },
   "outputs": [],
   "source": [
    "microplastics_df.head(5)"
   ]
  },
  {
   "cell_type": "markdown",
   "id": "74056df7-7505-4f34-8da0-f8fde37c9259",
   "metadata": {},
   "source": [
    "## Task 2. Exploring the Data\n",
    "\n",
    "Task 2.1: Display summary statistics of the dataset:"
   ]
  },
  {
   "cell_type": "code",
   "execution_count": null,
   "id": "9516da9b-ebf6-4ff8-a2e2-a6123136ab33",
   "metadata": {
    "tags": []
   },
   "outputs": [],
   "source": [
    "microplastics_df.describe()"
   ]
  },
  {
   "cell_type": "markdown",
   "id": "866ba4b3-fd7d-43c6-9b0c-d940d0dc56e5",
   "metadata": {},
   "source": [
    "Task 2.2: \n",
    "Check the data types of each column and identify if there are any missing values.\n",
    "Remove any records that are missing a value in the Oceans"
   ]
  },
  {
   "cell_type": "code",
   "execution_count": null,
   "id": "f3b1dd3a-e86a-4073-8bf0-18daf52bb01b",
   "metadata": {
    "tags": []
   },
   "outputs": [],
   "source": [
    "microplastics_df.dtypes"
   ]
  },
  {
   "cell_type": "code",
   "execution_count": null,
   "id": "6458d481-ebb6-429e-975f-626a6f3dd274",
   "metadata": {
    "tags": []
   },
   "outputs": [],
   "source": [
    "microplastics_df.isnull().sum()"
   ]
  },
  {
   "cell_type": "code",
   "execution_count": null,
   "id": "9075a55c-76ce-4b67-a2e5-7efd7edbd43e",
   "metadata": {
    "tags": []
   },
   "outputs": [],
   "source": [
    "microplastics_df = microplastics_df.dropna(subset=['Oceans'])"
   ]
  },
  {
   "cell_type": "code",
   "execution_count": null,
   "id": "edbd0d95-959e-4d81-aedc-5214feb9775a",
   "metadata": {
    "tags": []
   },
   "outputs": [],
   "source": [
    "microplastics_df.isnull().sum()"
   ]
  },
  {
   "cell_type": "markdown",
   "id": "cdd4d86d-977b-4ce9-98bb-ba27a183add1",
   "metadata": {},
   "source": [
    "### Grouping the Data\n",
    "Task 3.1:\n",
    "Create a groupby object called oceans that groups the data in df according to the value of the Oceans column."
   ]
  },
  {
   "cell_type": "code",
   "execution_count": null,
   "id": "06c08172-3a27-4567-a058-46654cbcfb84",
   "metadata": {
    "tags": []
   },
   "outputs": [],
   "source": [
    "oceans_df = microplastics_df.groupby(['Oceans'])\n",
    "print(oceans_df)"
   ]
  },
  {
   "cell_type": "markdown",
   "id": "ae1294e8-e9d6-4707-8c9f-e52a30210023",
   "metadata": {},
   "source": [
    "Task 3.2:\n",
    "Determine the total number of Measurements taken from each Ocean."
   ]
  },
  {
   "cell_type": "code",
   "execution_count": null,
   "id": "73bd5337-b2c8-4f32-9d8f-225f989f3e4a",
   "metadata": {
    "tags": []
   },
   "outputs": [],
   "source": [
    "oceans_df['Measurement'].count()"
   ]
  },
  {
   "cell_type": "markdown",
   "id": "9b15f242-1b3a-4f6a-bdc2-12fc7bcee843",
   "metadata": {},
   "source": [
    "Task 3.3:\n",
    "Determine the average value of Measurement taken from each Ocean."
   ]
  },
  {
   "cell_type": "code",
   "execution_count": null,
   "id": "ef546e0a-1982-4664-b6eb-1dc99af82ba8",
   "metadata": {
    "tags": []
   },
   "outputs": [],
   "source": [
    "oceans_df['Measurement'].mean()"
   ]
  },
  {
   "cell_type": "markdown",
   "id": "2d069346-cc25-4e7a-9c6e-4437124d33cd",
   "metadata": {},
   "source": [
    "## Filtering and Aggregating"
   ]
  },
  {
   "cell_type": "markdown",
   "id": "7e39cbdd-7977-4fd3-82ba-95b2850ae7d1",
   "metadata": {
    "tags": []
   },
   "source": [
    "Task 4.1:\n",
    "Filter the data to a new df (called df2) that only contains rows where the Unit of measurement is pieces/m3"
   ]
  },
  {
   "cell_type": "code",
   "execution_count": null,
   "id": "be9901e4-9947-4eb3-80c5-d1c55550dd0d",
   "metadata": {
    "tags": []
   },
   "outputs": [],
   "source": [
    "df2 = microplastics_df[microplastics_df['Unit'] == 'pieces/m3']"
   ]
  },
  {
   "cell_type": "markdown",
   "id": "7b1f95ce-756a-4834-b5b8-f3e4ad6bf3fc",
   "metadata": {},
   "source": [
    "Task 4.2:\n",
    "Use the groupby and the max() command to determine the Maximum value of pieces/m3 measured for each Ocean"
   ]
  },
  {
   "cell_type": "code",
   "execution_count": null,
   "id": "d95b53cc-77a1-43f0-8162-a6766d715b15",
   "metadata": {
    "tags": []
   },
   "outputs": [],
   "source": [
    "df2.groupby('Oceans')['Measurement'].max()"
   ]
  },
  {
   "cell_type": "markdown",
   "id": "702fa690-ef16-4b47-ad0a-0cf477d932b5",
   "metadata": {},
   "source": [
    "## Simple plots in pandas\n",
    "\n",
    "Task 5.1:\n",
    "Make a histogram of the latitude of every sample in your filtered dataframe using the DataFrame plot command."
   ]
  },
  {
   "cell_type": "code",
   "execution_count": null,
   "id": "8d715679-261d-4471-ba0c-ee5f79682234",
   "metadata": {
    "tags": []
   },
   "outputs": [],
   "source": [
    "import matplotlib.pyplot as plt"
   ]
  },
  {
   "cell_type": "code",
   "execution_count": null,
   "id": "9e6ac6e1-69a4-482b-9441-0d67ba029880",
   "metadata": {
    "tags": []
   },
   "outputs": [],
   "source": [
    "df2[\"Latitude\"].hist()\n",
    "plt.title(\"Test\")"
   ]
  },
  {
   "cell_type": "markdown",
   "id": "bc04aaea-66a5-417a-b03e-f198cc4f8d22",
   "metadata": {},
   "source": [
    "Task 5.2:\n",
    "Make a new dataframe (df3) from your filtered dataframe (df2) that contains only rows where Measurement is greater than zero."
   ]
  },
  {
   "cell_type": "code",
   "execution_count": null,
   "id": "43d68464-7ab5-4bc3-bb4e-21cbdebfa094",
   "metadata": {
    "tags": []
   },
   "outputs": [],
   "source": [
    "df3 = df2[df2['Measurement'] > 0]\n",
    "print(df3)"
   ]
  },
  {
   "cell_type": "markdown",
   "id": "d91cc79a-5c03-4468-ad79-3f2befcb8645",
   "metadata": {},
   "source": [
    "Task 5.3\n",
    "Create a new column in df3 that contains the log10 of Measurements."
   ]
  },
  {
   "cell_type": "code",
   "execution_count": null,
   "id": "c6bceab8-b4cd-469c-8ed0-cfdc5e87a53e",
   "metadata": {
    "tags": []
   },
   "outputs": [],
   "source": [
    "df3_copy = df3.copy()\n",
    "\n",
    "df3_copy['log10_Measurement'] = np.log10(df3_copy['Measurement'])\n",
    "df3_copy.info"
   ]
  },
  {
   "cell_type": "markdown",
   "id": "72d3d05d-2ba9-4965-a739-43265be2f55b",
   "metadata": {},
   "source": [
    "Task 5.4\n",
    "Make a histogram of the log-transformed values in df3"
   ]
  },
  {
   "cell_type": "code",
   "execution_count": null,
   "id": "7243412f-0cc6-49a6-98e8-689222acde45",
   "metadata": {
    "tags": []
   },
   "outputs": [],
   "source": [
    "df3_copy[\"log10_Measurement\"].hist()\n",
    "plt.title(\"Test\")"
   ]
  }
 ],
 "metadata": {
  "kernelspec": {
   "display_name": "Python 3.10.0",
   "language": "python",
   "name": "python3.10.0"
  },
  "language_info": {
   "codemirror_mode": {
    "name": "ipython",
    "version": 3
   },
   "file_extension": ".py",
   "mimetype": "text/x-python",
   "name": "python",
   "nbconvert_exporter": "python",
   "pygments_lexer": "ipython3",
   "version": "3.10.0"
  }
 },
 "nbformat": 4,
 "nbformat_minor": 5
}
