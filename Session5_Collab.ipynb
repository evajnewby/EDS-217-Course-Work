{
 "cells": [
  {
   "cell_type": "markdown",
   "id": "aa0d38cb-72ed-4117-ac2e-6349fc7ed7c7",
   "metadata": {},
   "source": [
    "# Session 5- Coding Collab\n",
    "\n",
    "https://eds-217-essential-python.github.io/course-materials/coding-colabs/5c_cleaning_data.html\n",
    "\n",
    "9/9/24"
   ]
  },
  {
   "cell_type": "code",
   "execution_count": null,
   "id": "7a69bc62-23b0-47ee-b4d5-e6913f2a8565",
   "metadata": {
    "tags": []
   },
   "outputs": [],
   "source": [
    "import pandas as pd\n",
    "import numpy as np\n",
    "\n",
    "url = 'https://bit.ly/messy_csv'\n",
    "messy_df = pd.read_csv(url)\n",
    "print(messy_df)"
   ]
  },
  {
   "cell_type": "code",
   "execution_count": null,
   "id": "49c169d5-7ab6-4074-9f43-6eb3c49881c3",
   "metadata": {
    "tags": []
   },
   "outputs": [],
   "source": [
    "# 1. Removing duplicates\n",
    "\n",
    "messy_df = messy_df.drop_duplicates()\n",
    "print(messy_df)"
   ]
  },
  {
   "cell_type": "code",
   "execution_count": null,
   "id": "c875fb43-4bca-41c9-b54d-fe47c959ce34",
   "metadata": {
    "tags": []
   },
   "outputs": [],
   "source": [
    "# 2. Handling missing values (either fill or dropna to remove rows with missing data)\n",
    "\n",
    "sites_df = messy_df.dropna()\n",
    "print(messy_df)"
   ]
  },
  {
   "cell_type": "code",
   "execution_count": null,
   "id": "f0639f92-6452-44ed-9cd9-477659b48bef",
   "metadata": {
    "tags": []
   },
   "outputs": [],
   "source": [
    "# 3. ensuring consistent data types (dates, strings)\n",
    "\n",
    "sites_df['site'] = sites_df['site'].astype('string')\n",
    "sites_df['temperature_c'] = sites_df['temperature_c'].astype(float)\n",
    "sites_df['dissolved_oxygen_mg_L'] = sites_df['dissolved_oxygen_mg_L'].astype(float)\n",
    "sites_df['collection date'] = pd.to_datetime(messy_df['collection date'])\n",
    "\n",
    "print(sites_df['site'].apply(type))\n",
    "print(sites_df['temperature_c'].apply(type))\n",
    "print(sites_df['dissolved_oxygen_mg_L'].apply(type))\n",
    "print(sites_df['collection date'].apply(type))"
   ]
  },
  {
   "cell_type": "code",
   "execution_count": null,
   "id": "21b974af-d52a-445f-a400-b5c44cc7db2c",
   "metadata": {
    "tags": []
   },
   "outputs": [],
   "source": [
    "# 4. Formatting the ‘site’ column for consistency\n",
    "\n",
    "sites_df.loc[0, 'site']= 'site_a'\n",
    "sites_df.loc[2, 'site']= 'site_c'\n",
    "\n",
    "print(sites_df)"
   ]
  },
  {
   "cell_type": "code",
   "execution_count": null,
   "id": "f66f5a47-bb61-4f18-b4d0-2c64f9e71f3f",
   "metadata": {
    "tags": []
   },
   "outputs": [],
   "source": [
    "# 5. Making sure all column names are lower case, without whitespace.\n",
    "\n",
    "sites_df = [col.lower().replace(' ', '_') for col in sites_df]\n",
    "print(sites_df)"
   ]
  }
 ],
 "metadata": {
  "kernelspec": {
   "display_name": "Python 3.10.0",
   "language": "python",
   "name": "python3.10.0"
  },
  "language_info": {
   "codemirror_mode": {
    "name": "ipython",
    "version": 3
   },
   "file_extension": ".py",
   "mimetype": "text/x-python",
   "name": "python",
   "nbconvert_exporter": "python",
   "pygments_lexer": "ipython3",
   "version": "3.10.0"
  }
 },
 "nbformat": 4,
 "nbformat_minor": 5
}
