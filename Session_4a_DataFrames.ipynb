{
 "cells": [
  {
   "cell_type": "markdown",
   "id": "176aa3e6-7e54-4b6b-a63e-3b713fe5780b",
   "metadata": {},
   "source": [
    "# Day 4: Session A - Data Frames in Pandas\n",
    "\n",
    "https://eds-217-essential-python.github.io/course-materials/interactive-sessions/4a_dataframes.html\n",
    "\n",
    "Date: 9/6/24"
   ]
  },
  {
   "cell_type": "code",
   "execution_count": null,
   "id": "3aedc8f1-b990-4cec-a752-56b85d2098a9",
   "metadata": {
    "tags": []
   },
   "outputs": [],
   "source": [
    "import pandas as pd\n",
    "import numpy as np"
   ]
  },
  {
   "cell_type": "markdown",
   "id": "360d0f3a-aa99-4c8d-bdc7-ea62dee25bef",
   "metadata": {},
   "source": [
    "## Step 1: import data"
   ]
  },
  {
   "cell_type": "code",
   "execution_count": null,
   "id": "f49054ef-423e-4295-adb1-d09a42cfe3ac",
   "metadata": {
    "tags": []
   },
   "outputs": [],
   "source": [
    "url = \"https://raw.githubusercontent.com/datasets/world-cities/master/data/world-cities.csv\"\n",
    "cities_df = pd.read_csv(url)"
   ]
  },
  {
   "cell_type": "markdown",
   "id": "eaa516ab-a625-47bc-a5c4-451d9281d795",
   "metadata": {},
   "source": [
    "## Step 2: Explore Data\n",
    "\n",
    "Figuring out the Data Frame structure. \n",
    "Looking at data types.\n",
    "Getting a sense of data values. \n",
    "Checking out the column names.\n"
   ]
  },
  {
   "cell_type": "code",
   "execution_count": null,
   "id": "afbc9b6f-df97-4fcb-ba50-5a4674851a8e",
   "metadata": {
    "tags": []
   },
   "outputs": [],
   "source": [
    "cities_df.head()"
   ]
  },
  {
   "cell_type": "code",
   "execution_count": null,
   "id": "5a2bed37-4b77-4dc3-a2f1-2b8cd0748656",
   "metadata": {
    "tags": []
   },
   "outputs": [],
   "source": [
    "cities_df.tail()"
   ]
  },
  {
   "cell_type": "markdown",
   "id": "d5d57fd9-eaf8-4888-a881-cc6f3160ed4d",
   "metadata": {},
   "source": [
    "### Exploring DataFramew using their properties"
   ]
  },
  {
   "cell_type": "markdown",
   "id": "48c2438b-495f-4af2-ac5f-453fd6a9ff43",
   "metadata": {},
   "source": [
    "Use the`shape` property to get the size (rows x columns) of a dataframe. Don't put parentheses `()` on the end of `shape` because it's not a function. Calling shape returns a tuple which is not a function that can be called. "
   ]
  },
  {
   "cell_type": "code",
   "execution_count": null,
   "id": "6bfbe083-0390-4cc0-8f94-2f9cee638675",
   "metadata": {
    "tags": []
   },
   "outputs": [],
   "source": [
    "cities_df.shape"
   ]
  },
  {
   "cell_type": "markdown",
   "id": "79dc5ce8-a9ec-4d23-92ed-a64bbe4382cc",
   "metadata": {},
   "source": [
    "Use the `columns` property to get a \"list\" of column names"
   ]
  },
  {
   "cell_type": "code",
   "execution_count": null,
   "id": "410169b5-465a-4f5b-8068-9abf14e7a8fc",
   "metadata": {
    "tags": []
   },
   "outputs": [],
   "source": [
    "cities_df.columns"
   ]
  },
  {
   "cell_type": "markdown",
   "id": "031fe4fa-ca15-4832-a2ed-7d0bdbb9e463",
   "metadata": {},
   "source": [
    "Determining the types of data using the `dtypes` property"
   ]
  },
  {
   "cell_type": "code",
   "execution_count": null,
   "id": "0c5adfbd-a94e-4b74-98cf-8e8a2554555c",
   "metadata": {
    "tags": []
   },
   "outputs": [],
   "source": [
    "cities_df.dtypes"
   ]
  },
  {
   "cell_type": "markdown",
   "id": "3b5efb33-b8cd-4c46-ac89-c735c9bbe100",
   "metadata": {
    "tags": []
   },
   "source": [
    "### Exploring Data Frames using their methods"
   ]
  },
  {
   "cell_type": "markdown",
   "id": "55305a4b-a55d-4653-9fde-af67fbe6658a",
   "metadata": {},
   "source": [
    "Use the `describe()` method to get a summary of the dataframe"
   ]
  },
  {
   "cell_type": "code",
   "execution_count": null,
   "id": "a30eb58d-c03b-4a75-805f-679be62c9d90",
   "metadata": {
    "tags": []
   },
   "outputs": [],
   "source": [
    "cities_df.describe()"
   ]
  },
  {
   "cell_type": "markdown",
   "id": "ffaa3028-abf2-4620-99d6-b038f6fc5c8b",
   "metadata": {},
   "source": [
    "Use `info()` to get detailed information about column types and content. "
   ]
  },
  {
   "cell_type": "code",
   "execution_count": null,
   "id": "792c10e0-c627-4f68-ad04-5facebce2d6f",
   "metadata": {
    "tags": []
   },
   "outputs": [],
   "source": [
    "cities_df.info()"
   ]
  },
  {
   "cell_type": "markdown",
   "id": "0604a731-3168-4874-bb36-f64be31d52c1",
   "metadata": {},
   "source": [
    "Use `isnull()` and `sum()` to count missing values"
   ]
  },
  {
   "cell_type": "code",
   "execution_count": null,
   "id": "060fe6e8-c9f7-477c-8aa6-c0b440def690",
   "metadata": {
    "tags": []
   },
   "outputs": [],
   "source": [
    "cities_df.isnull().sum()"
   ]
  },
  {
   "cell_type": "markdown",
   "id": "bc2c0eb0-bb1d-49e8-8371-5884c7bff075",
   "metadata": {
    "tags": []
   },
   "source": [
    "## Step 2: Cleaning Data"
   ]
  },
  {
   "cell_type": "markdown",
   "id": "7324b067-4c6e-452a-a30a-09b5b8b63670",
   "metadata": {},
   "source": [
    "For removing missing data, `dropna()` is best, use `subset` argument to select specific columns"
   ]
  },
  {
   "cell_type": "code",
   "execution_count": null,
   "id": "01476d2f-adc6-4cf5-8268-3d893547ee4a",
   "metadata": {
    "tags": []
   },
   "outputs": [],
   "source": [
    "cities_df = cities_df.dropna(subset=['subcountry'])"
   ]
  },
  {
   "cell_type": "code",
   "execution_count": null,
   "id": "e282cd78-204f-4644-ad69-a844ebc49ed9",
   "metadata": {
    "tags": []
   },
   "outputs": [],
   "source": [
    "cities_df.isnull().sum()"
   ]
  },
  {
   "cell_type": "markdown",
   "id": "ce214ea2-4548-4878-81c3-f7fd2999ec7f",
   "metadata": {},
   "source": [
    "## Step 3: Basic Selecting and Filtering\n",
    "\n",
    "Selecting a column is easy! Just add it to the data frame with brackets"
   ]
  },
  {
   "cell_type": "code",
   "execution_count": null,
   "id": "27acfccb-90ff-4a9d-b53f-5b55d8e4c2aa",
   "metadata": {
    "tags": []
   },
   "outputs": [],
   "source": [
    "cities_df['name'].head() #Using the head() method to keep my notebook clean for demo, not for use"
   ]
  },
  {
   "cell_type": "markdown",
   "id": "fa1b33e6-dc6f-435e-9551-d760e4e97245",
   "metadata": {},
   "source": [
    "If we want to select more than one column, put the columns we want into a list."
   ]
  },
  {
   "cell_type": "code",
   "execution_count": null,
   "id": "1dc217df-4713-4e15-a180-04287b0f53ac",
   "metadata": {
    "tags": []
   },
   "outputs": [],
   "source": [
    "cities_df[['name', 'country', 'subcountry']] # we need the double bracket here, otherwise it won't work. Cannot have more than one column in a series. "
   ]
  },
  {
   "cell_type": "markdown",
   "id": "4fa12df5-a127-4a7b-be48-6f14d79f0343",
   "metadata": {},
   "source": [
    "To make a series from a column, request it like `df['column']`\n",
    "\n",
    "\n",
    "To make a DataFrame from a column, request it as a single item list: `df[['column']]`"
   ]
  },
  {
   "cell_type": "markdown",
   "id": "c07b5561-bc81-45c4-83ed-fa42e9dc9a1b",
   "metadata": {},
   "source": [
    "### Basic Filtering\n",
    "\n",
    "Use conditional expressions to filter rows.\n"
   ]
  },
  {
   "cell_type": "code",
   "execution_count": null,
   "id": "c49d50b7-9e60-42a1-b964-64bc43fdab47",
   "metadata": {
    "tags": []
   },
   "outputs": [],
   "source": [
    "us_cities = cities_df[ cities_df['country'] == 'United States' ]\n",
    "print(us_cities)"
   ]
  },
  {
   "cell_type": "markdown",
   "id": "1cca99a2-df92-4369-9fe5-6922e426869a",
   "metadata": {},
   "source": [
    "We can combine logical operators to filter on multiple columns!"
   ]
  },
  {
   "cell_type": "code",
   "execution_count": null,
   "id": "7fa36070-84b6-4449-b5d6-e622ddfd70f1",
   "metadata": {
    "tags": []
   },
   "outputs": [],
   "source": [
    "# What about in just California? Be Decarative and Expressive!\n",
    "\n",
    "in_us = cities_df['country'] == 'United States'\n",
    "in_ca= cities_df['subcountry'] == 'California'\n",
    "\n",
    "ca_cities= cities_df[ in_us & in_ca ]\n",
    "print(ca_cities.head())"
   ]
  },
  {
   "cell_type": "code",
   "execution_count": null,
   "id": "29fc5355-8510-4801-861d-15c7cbea2b68",
   "metadata": {
    "tags": []
   },
   "outputs": [],
   "source": [
    "# Efficient! But we need to wrap each condition in `\" \"` to avoid confusion\n",
    "\n",
    "ca_cities = cities_df[\n",
    "    (cities_df['country'] == 'United States') & \n",
    "    (cities_df['subcountry'] == 'California') \n",
    "]\n",
    "\n",
    "print(ca_cities.head())"
   ]
  },
  {
   "cell_type": "markdown",
   "id": "beb16639-412a-436e-81e1-076245cb3b6f",
   "metadata": {},
   "source": [
    "## Step 5: Sorting and Ranking"
   ]
  },
  {
   "cell_type": "markdown",
   "id": "971ae460-7e19-4abe-af7c-d0f78f7d7cf0",
   "metadata": {},
   "source": [
    "coming soon..."
   ]
  },
  {
   "cell_type": "markdown",
   "id": "a415d302-4f6a-4f74-8aeb-677a3646ba9a",
   "metadata": {},
   "source": [
    "## Step 6: Basic Transformations\n",
    "\n",
    "coming soon ..."
   ]
  },
  {
   "cell_type": "markdown",
   "id": "1fb89875-3b69-4b64-ac79-32d452a682dc",
   "metadata": {},
   "source": [
    "## Steps 7/8: Grouping / Aggregation\n",
    "\n",
    "The workhorse method for grouping in pandas is `groupby()`"
   ]
  },
  {
   "cell_type": "code",
   "execution_count": null,
   "id": "6ab71db7-a374-4ec5-89a0-4b6930d21584",
   "metadata": {
    "tags": []
   },
   "outputs": [],
   "source": [
    "cities_per_country = cities_df.groupby('country') #groupby is looking for the name of column"
   ]
  },
  {
   "cell_type": "markdown",
   "id": "8f0e1cdc-6fbe-41ab-bf74-37daa0db8575",
   "metadata": {},
   "source": [
    "Use aggregation on groupby to get patterns out of the datasets. \n",
    "\n",
    "Aggregations: `mean()`, `max()`, `median()`, `count()`\n",
    "\n",
    "See the cheat sheet on aggregation on the course webpage"
   ]
  },
  {
   "cell_type": "code",
   "execution_count": null,
   "id": "efaec858-9965-48a4-afcf-393bf7514cc7",
   "metadata": {
    "tags": []
   },
   "outputs": [],
   "source": [
    "cities_per_country['name'].count().sort_values(ascending = False).head(10)"
   ]
  },
  {
   "cell_type": "markdown",
   "id": "3fcaaceb-ae78-426f-96b2-4516bcf77d53",
   "metadata": {},
   "source": [
    "## Step: Visualization\n",
    "\n",
    "...coming soon"
   ]
  }
 ],
 "metadata": {
  "kernelspec": {
   "display_name": "Python 3.10.0",
   "language": "python",
   "name": "python3.10.0"
  },
  "language_info": {
   "codemirror_mode": {
    "name": "ipython",
    "version": 3
   },
   "file_extension": ".py",
   "mimetype": "text/x-python",
   "name": "python",
   "nbconvert_exporter": "python",
   "pygments_lexer": "ipython3",
   "version": "3.10.0"
  }
 },
 "nbformat": 4,
 "nbformat_minor": 5
}
