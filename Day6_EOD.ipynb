{
 "cells": [
  {
   "cell_type": "markdown",
   "id": "525a69bb-765a-45ce-9790-e33bcf80cc1e",
   "metadata": {},
   "source": [
    "## Day 6 - EOD. Eurovision Data Analysis Exercise\n",
    "\n",
    "https://eds-217-essential-python.github.io/course-materials/eod-practice/eod-day6.html\n",
    "\n",
    "9/10/24"
   ]
  },
  {
   "cell_type": "code",
   "execution_count": null,
   "id": "52a3e5fe-66cb-47c2-b956-6d6ff41b9833",
   "metadata": {
    "tags": []
   },
   "outputs": [],
   "source": [
    "import pandas as pd\n",
    "import numpy as np\n",
    "import matplotlib.pyplot as plt\n",
    "import seaborn as sns\n",
    "\n",
    "# Load the dataset\n",
    "url = \"https://github.com/Spijkervet/eurovision-dataset/releases/download/2020.0/contestants.csv\"\n",
    "eurovision_df = pd.read_csv(url)"
   ]
  },
  {
   "cell_type": "markdown",
   "id": "f29f001e-7099-4e08-8f78-f3a338d9c9c1",
   "metadata": {
    "tags": []
   },
   "source": [
    "## Task 1: Data Exploration and Cleaning"
   ]
  },
  {
   "cell_type": "code",
   "execution_count": null,
   "id": "333075d3-9a1b-44ac-aa96-1b0beb015a0f",
   "metadata": {
    "tags": []
   },
   "outputs": [],
   "source": [
    "# Display the first few rows of the dataset.\n",
    "\n",
    "eurovision_df.head()"
   ]
  },
  {
   "cell_type": "code",
   "execution_count": null,
   "id": "559d8e1e-6503-4d5e-84b7-f5ab6c8c39f8",
   "metadata": {},
   "outputs": [],
   "source": [
    "# Check the data types of each column.\n",
    "\n"
   ]
  },
  {
   "cell_type": "code",
   "execution_count": null,
   "id": "a64d9f6e-e052-43dd-b1ca-388f4cc99ff0",
   "metadata": {},
   "outputs": [],
   "source": [
    "# Identify and handle any missing values.\n",
    "\n"
   ]
  },
  {
   "cell_type": "code",
   "execution_count": null,
   "id": "fbfafe4d-dbc6-4da5-9726-528056b15e2b",
   "metadata": {},
   "outputs": [],
   "source": [
    "# Convert the ‘year’ column to datetime type.\n",
    "\n"
   ]
  }
 ],
 "metadata": {
  "kernelspec": {
   "display_name": "Python 3.10.0",
   "language": "python",
   "name": "python3.10.0"
  },
  "language_info": {
   "codemirror_mode": {
    "name": "ipython",
    "version": 3
   },
   "file_extension": ".py",
   "mimetype": "text/x-python",
   "name": "python",
   "nbconvert_exporter": "python",
   "pygments_lexer": "ipython3",
   "version": "3.10.0"
  }
 },
 "nbformat": 4,
 "nbformat_minor": 5
}
