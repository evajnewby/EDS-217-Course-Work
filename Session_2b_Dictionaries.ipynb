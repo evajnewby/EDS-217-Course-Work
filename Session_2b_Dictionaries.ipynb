{
 "cells": [
  {
   "cell_type": "markdown",
   "id": "09c538fb-9cf7-46f8-8e9c-3162c1d2fb34",
   "metadata": {},
   "source": [
    "# Day 2: Session B - Dictionaries\n",
    "\n",
    "[Link to session webpage](https://eds-217-essential-python.github.io/course-materials/interactive-sessions/2b_dictionaries.html)\n",
    "\n",
    "Date: 09/04/2024"
   ]
  },
  {
   "cell_type": "code",
   "execution_count": null,
   "id": "4f6571e3-af80-42cc-ab4b-31dae03c970f",
   "metadata": {
    "tags": []
   },
   "outputs": [],
   "source": [
    "# Define a dictionary with species data containing latin names and corresponding common names.\n",
    "species_dict = {\n",
    "    \"P ochraceus\": \"Ochre sea star\",\n",
    "    \"M californianus\": \"California mussel\",\n",
    "    \"H rufescens\": \"Red abalone\"\n",
    "}"
   ]
  },
  {
   "cell_type": "code",
   "execution_count": null,
   "id": "7e4800af-53ea-4353-b99e-cdcfd9cc8566",
   "metadata": {
    "tags": []
   },
   "outputs": [],
   "source": [
    "species_dict[\"P ochraceus\"]"
   ]
  },
  {
   "cell_type": "code",
   "execution_count": null,
   "id": "8edaafd6-b607-4fcd-912e-f922e8a958de",
   "metadata": {
    "tags": []
   },
   "outputs": [],
   "source": [
    "# Adding a new entry for Leather star, new entries in an existing dictionary\n",
    "species_dict[\"D imbricata\"] = \"Leather star\""
   ]
  },
  {
   "cell_type": "code",
   "execution_count": null,
   "id": "e58e2710-6e6d-4eb6-9921-8e7b8119e3c7",
   "metadata": {
    "tags": []
   },
   "outputs": [],
   "source": [
    "print(species_dict)"
   ]
  },
  {
   "cell_type": "code",
   "execution_count": null,
   "id": "51eff215-e8a1-4f08-bc44-ead3fefac961",
   "metadata": {
    "tags": []
   },
   "outputs": [],
   "source": [
    "dir(species_dict)"
   ]
  },
  {
   "cell_type": "code",
   "execution_count": null,
   "id": "b22ea98e-2b92-4e67-8418-a1d9183a923b",
   "metadata": {
    "tags": []
   },
   "outputs": [],
   "source": [
    "# make a list of all the keys in a dictionary\n",
    "list(species_dict.keys())"
   ]
  },
  {
   "cell_type": "code",
   "execution_count": null,
   "id": "ab264651-b3bf-48c6-b9f9-3fa22d3434a7",
   "metadata": {
    "tags": []
   },
   "outputs": [],
   "source": [
    "# Make a list of typles of key, value pairs:\n",
    "species_dict.items()"
   ]
  },
  {
   "cell_type": "markdown",
   "id": "2fc6fd22-999e-4eba-9fdd-7e5bfe1a6458",
   "metadata": {},
   "source": [
    "## Looping through a dictionary\n",
    "\n",
    "use a `for` loop to loop through a dictionary\n",
    "\n",
    "```{python}\n",
    "for item in collection:\n",
    "print(item)\n",
    "````"
   ]
  },
  {
   "cell_type": "code",
   "execution_count": null,
   "id": "bbb32acb-8795-44ed-acf9-c2b365af93c0",
   "metadata": {
    "tags": []
   },
   "outputs": [],
   "source": [
    "for item in list(species_dict.items()):\n",
    "    print(item)"
   ]
  },
  {
   "cell_type": "code",
   "execution_count": null,
   "id": "e2d262f8-39ae-4a4f-b5c6-a4f9a2aa483c",
   "metadata": {
    "tags": []
   },
   "outputs": [],
   "source": [
    "# You can use the .get() method to allow lookups to fail silently\n",
    "\n",
    "species_dict.get(\"D imbricata\")\n",
    "print(result)"
   ]
  },
  {
   "cell_type": "code",
   "execution_count": null,
   "id": "65cac0c2-5385-4cab-af08-f044ce0e4245",
   "metadata": {
    "tags": []
   },
   "outputs": [],
   "source": [
    "# You can also set a default response for missing keys:\n",
    "result = species_dict.get(\"P ochraceus\", \"Species not found\")\n",
    "print(result)\n",
    "\n",
    "result = species_dict.get(\"E dolfini\", \"Species not found\")\n",
    "print(result)"
   ]
  },
  {
   "cell_type": "code",
   "execution_count": null,
   "id": "e4bb0de9-0bde-4f29-b783-5e59beb7794a",
   "metadata": {},
   "outputs": [],
   "source": []
  }
 ],
 "metadata": {
  "kernelspec": {
   "display_name": "Python 3.10.0",
   "language": "python",
   "name": "python3.10.0"
  },
  "language_info": {
   "codemirror_mode": {
    "name": "ipython",
    "version": 3
   },
   "file_extension": ".py",
   "mimetype": "text/x-python",
   "name": "python",
   "nbconvert_exporter": "python",
   "pygments_lexer": "ipython3",
   "version": "3.10.0"
  }
 },
 "nbformat": 4,
 "nbformat_minor": 5
}
