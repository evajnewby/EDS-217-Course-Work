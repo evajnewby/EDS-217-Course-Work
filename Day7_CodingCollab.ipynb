{
 "cells": [
  {
   "cell_type": "markdown",
   "id": "185e5685-1e8b-4afb-a74a-61a51aa34ccf",
   "metadata": {},
   "source": [
    "# Day 7 Coding Collab\n",
    "\n",
    "https://eds-217-essential-python.github.io/course-materials/coding-colabs/7c_visualizations.html\n",
    "\n",
    "9/11/24"
   ]
  },
  {
   "cell_type": "code",
   "execution_count": null,
   "id": "459daff9-8d7f-4b95-9ce8-615b149f2ac1",
   "metadata": {
    "tags": []
   },
   "outputs": [],
   "source": [
    "import pandas as pd\n",
    "import matplotlib.pyplot as plt\n",
    "import seaborn as sns\n",
    "import numpy as np"
   ]
  },
  {
   "cell_type": "code",
   "execution_count": null,
   "id": "7e55fb73-7811-469d-a862-ddfaa547904c",
   "metadata": {
    "tags": []
   },
   "outputs": [],
   "source": [
    "sns.set_style(\"whitegrid\")\n",
    "penguins = sns.load_dataset(\"penguins\")\n",
    "print(penguins.head())\n",
    "print(penguins.info())"
   ]
  },
  {
   "cell_type": "markdown",
   "id": "671f988d-d4e1-43a7-a6d8-5c4c04ebe4c1",
   "metadata": {},
   "source": [
    "### Task 1: Exploring Distributions with Histograms\n",
    "Let’s start by exploring the distributions of various numerical variables in our dataset using histograms.\n"
   ]
  },
  {
   "cell_type": "code",
   "execution_count": null,
   "id": "61496606-691b-42fe-af7a-2d730141697e",
   "metadata": {
    "tags": []
   },
   "outputs": [],
   "source": [
    "# Create histograms for ‘bill_length_mm’, ‘bill_depth_mm’, ‘flipper_length_mm’, and ‘body_mass_g’.\n",
    "\n",
    "fig, axes = plt.subplots(2, 2, figsize =(8,8))\n",
    "sns.histplot(data = penguins, x = 'bill_length_mm', kde = True, ax=axes[0, 0])\n",
    "sns.histplot(data = penguins, x = 'bill_depth_mm', kde = True, ax=axes[0, 1])\n",
    "sns.histplot(data = penguins, x = 'flipper_length_mm', kde = True, ax=axes[1, 0])\n",
    "sns.histplot(data = penguins, x = 'body_mass_g', kde = True, ax=axes[1, 1])"
   ]
  },
  {
   "cell_type": "code",
   "execution_count": null,
   "id": "1fd31210-33ed-4ebd-8c89-d3e3f10812ad",
   "metadata": {
    "tags": []
   },
   "outputs": [],
   "source": [
    "# Experiment with different numbers of bins to see how it affects the visualization.\n",
    "# Try using sns.histplot() with the ‘kde’ parameter set to True to overlay a kernel density estimate.\n",
    "\n",
    "sns.histplot(data=penguins, x='body_mass_g', bins=67, kde=True)"
   ]
  },
  {
   "cell_type": "markdown",
   "id": "cfb441fd-40c4-4380-bd38-6919ede324bf",
   "metadata": {
    "tags": []
   },
   "source": [
    "## Task 2: Examining Correlations\n",
    "Now, let’s look at the correlations between the numerical variables in our dataset using Seaborn’s built-in correlation plot."
   ]
  },
  {
   "cell_type": "code",
   "execution_count": null,
   "id": "e819f5a6-b4d4-41ca-a8c1-d86fdad99a8f",
   "metadata": {
    "tags": []
   },
   "outputs": [],
   "source": [
    "# Use sns.pairplot() to create a grid of scatter plots for all numeric variables.\n",
    "\n",
    "sns.pairplot(data= penguins)"
   ]
  },
  {
   "cell_type": "code",
   "execution_count": null,
   "id": "11bb4303-75cb-42a9-879c-c75e9ba6796c",
   "metadata": {
    "tags": []
   },
   "outputs": [],
   "source": [
    "# Modify the pairplot to show the species information using different colors.\n",
    "\n",
    "sns.pairplot(data= penguins, hue = 'species')"
   ]
  },
  {
   "cell_type": "code",
   "execution_count": null,
   "id": "d9f1bd34-5a4d-4444-a668-0dbc4e4fbb85",
   "metadata": {},
   "outputs": [],
   "source": [
    "# Interpret the pairplot: which variables seem to be most strongly correlated? Do you notice any patterns related to species?\n",
    "\n"
   ]
  },
  {
   "cell_type": "markdown",
   "id": "67b807d1-f581-4580-8bb8-789c6010fb1b",
   "metadata": {},
   "source": [
    "## Task 3: Investigating Relationships with Regression Plots\n",
    "Let’s dig deeper into the relationships between variables using regression plots.\n"
   ]
  },
  {
   "cell_type": "code",
   "execution_count": null,
   "id": "693d6b8c-8d50-4b8e-a488-dfdbddf596b2",
   "metadata": {
    "tags": []
   },
   "outputs": [],
   "source": [
    "# Create a regression plot (sns.regplot) showing the relationship between ‘flipper_length_mm’ and ‘body_mass_g’.\n",
    "\n",
    "sns.regplot(data = penguins, x = \"flipper_length_mm\", y = \"body_mass_g\")"
   ]
  },
  {
   "cell_type": "code",
   "execution_count": null,
   "id": "94c09390-ce0c-4dd0-b114-facd763657a8",
   "metadata": {
    "tags": []
   },
   "outputs": [],
   "source": [
    "#Create another regplot showing the relationship between ‘bill_length_mm’ and ‘bill_depth_mm’.\n",
    "\n",
    "sns.regplot(data = penguins, x = \"bill_length_mm\", y = \"bill_depth_mm\")"
   ]
  },
  {
   "cell_type": "code",
   "execution_count": null,
   "id": "a6d73d44-0ed8-4476-a03c-d8962fbaa0a1",
   "metadata": {
    "tags": []
   },
   "outputs": [],
   "source": [
    "# Try adding the ‘species’ information to one of these plots using different colors. Hint: You might want to use sns.lmplot for this\n",
    "\n",
    "sns.lmplot(data = penguins, x = \"bill_length_mm\", y = \"bill_depth_mm\", hue = \"species\")"
   ]
  },
  {
   "cell_type": "markdown",
   "id": "c69bb63a-5ed2-4b58-81c5-ad306e9f0259",
   "metadata": {},
   "source": [
    "## Task 4: Joint Distribution Plots\n",
    "Finally, let’s use joint distribution plots to examine both the relationship between two variables and their individual distributions.\n"
   ]
  },
  {
   "cell_type": "code",
   "execution_count": null,
   "id": "da20a22c-3432-4a84-a653-8a0024a3747c",
   "metadata": {
    "tags": []
   },
   "outputs": [],
   "source": [
    "# Create a joint plot for ‘flipper_length_mm’ and ‘body_mass_g’.\n",
    "\n",
    "sns.jointplot(data= penguins, x = 'flipper_length_mm', y = 'body_mass_g')"
   ]
  },
  {
   "cell_type": "code",
   "execution_count": null,
   "id": "8eab050a-9680-4284-9831-22f8568d18e6",
   "metadata": {
    "tags": []
   },
   "outputs": [],
   "source": [
    "# Experiment with different kind parameters in the joint plot (e.g., ‘scatter’, ‘kde’, ‘hex’).\n",
    "\n",
    "sns.jointplot(data= penguins, x = 'flipper_length_mm', y = 'body_mass_g', kind = 'scatter')\n",
    "sns.jointplot(data= penguins, x = 'flipper_length_mm', y = 'body_mass_g', kind = 'kde')\n",
    "sns.jointplot(data= penguins, x = 'flipper_length_mm', y = 'body_mass_g', kind = 'hex')"
   ]
  },
  {
   "cell_type": "code",
   "execution_count": null,
   "id": "d3016b18-fb56-4fbe-9fa2-b3cfaebd6e5a",
   "metadata": {
    "tags": []
   },
   "outputs": [],
   "source": [
    "# Create another joint plot, this time for ‘bill_length_mm’ and ‘bill_depth_mm’, colored by species.\n",
    "\n",
    "sns.jointplot(data= penguins, x = 'bill_length_mm', y = 'bill_depth_mm', hue = 'species')"
   ]
  }
 ],
 "metadata": {
  "kernelspec": {
   "display_name": "Python 3.10.0",
   "language": "python",
   "name": "python3.10.0"
  },
  "language_info": {
   "codemirror_mode": {
    "name": "ipython",
    "version": 3
   },
   "file_extension": ".py",
   "mimetype": "text/x-python",
   "name": "python",
   "nbconvert_exporter": "python",
   "pygments_lexer": "ipython3",
   "version": "3.10.0"
  }
 },
 "nbformat": 4,
 "nbformat_minor": 5
}
